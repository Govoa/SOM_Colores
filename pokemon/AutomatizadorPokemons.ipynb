{
 "cells": [
  {
   "cell_type": "markdown",
   "metadata": {},
   "source": [
    "# Práctica 1 - Self-Organising Maps - COLORES\n",
    "## Preparación de entorno\n",
    "#### Importar librerías de código"
   ]
  },
  {
   "cell_type": "code",
   "execution_count": 2,
   "metadata": {},
   "outputs": [],
   "source": [
    "# from __future__ import division\n",
    "\n",
    "import numpy as np\n",
    "from matplotlib import pyplot as plt\n",
    "from matplotlib import patches as patches\n",
    "import pandas as pd\n",
    "from sklearn.preprocessing import StandardScaler\n",
    "\n",
    "%matplotlib inline"
   ]
  },
  {
   "cell_type": "markdown",
   "metadata": {},
   "source": [
    "#### Dataset que se va a utilizar para el entrenamiento"
   ]
  },
  {
   "cell_type": "code",
   "execution_count": 3,
   "metadata": {},
   "outputs": [],
   "source": [
    "# Código para obtener el Dataset que se va a usar en el entrenamiento\n",
    "datosOriginal = pd.read_csv(\"pokemon_train.csv\", encoding = 'latin_1', sep = ',')\n",
    "datosDF = datosOriginal\n",
    "nombres_pokemon = datosDF.pop(\"name\")\n",
    "tipos_pokemon_type1 = datosDF.pop(\"type1\")\n",
    "tipos_pokemon_type2 = datosDF.pop(\"type2\")\n",
    "id_pokemon = datosDF.pop(\"id\")\n",
    "\n",
    "datosClasificarDF = pd.read_csv(\"pokemon_classify.csv\", encoding = 'latin_1', sep = ',')\n",
    "datosClasificarDF = datosClasificarDF.drop([\"name\",\"type1\",\"type2\",\"id\"], axis=1)"
   ]
  },
  {
   "cell_type": "markdown",
   "metadata": {},
   "source": [
    "## SOM Setup\n",
    "#### Variables definidas por el alumno"
   ]
  },
  {
   "cell_type": "code",
   "execution_count": 4,
   "metadata": {},
   "outputs": [],
   "source": [
    "# Valores de entradas \n",
    "n_entradas_kohonen = len(datosDF.columns) # 22 entradas \n",
    "tam_dataset = len(datosDF) # 247 valores"
   ]
  },
  {
   "cell_type": "code",
   "execution_count": 5,
   "metadata": {},
   "outputs": [],
   "source": [
    "# Inicializa tamaño del mapa de Kohonen, número de iteraciones y learning rate\n",
    "# Inicializa normalizar_datos dependiendo de si tienes que normalizar los datos o no\n",
    "lado_mapa = 30 # Cambiar\n",
    "periodo = 4500 # Cambiar\n",
    "learning_rate = 0.2 # Cambiar\n",
    "normalizar_datos = True"
   ]
  },
  {
   "cell_type": "markdown",
   "metadata": {},
   "source": [
    "#### A partir de este punto solo hay cálculos. No se introducen más valores \"a mano\""
   ]
  },
  {
   "cell_type": "code",
   "execution_count": 6,
   "metadata": {},
   "outputs": [],
   "source": [
    "# Establece el numero de entradas del mapa y el número de datos que se van a usar para entrenar. \n",
    "# Utiliza una función que obtenga automáticamente los valores a partir del Dataset.\n",
    "num_entradas = n_entradas_kohonen\n",
    "num_datos = tam_dataset\n",
    "\n",
    "# Calcula el vecindario inicial. Debe ser la mitad del lado del mapa de Kohonen\n",
    "vecindario_inicial = int(lado_mapa/2)\n",
    "\n",
    "# Normaliza los datos si fuese necesario dividiendo cada dato por el máximo en la matriz\n",
    "if normalizar_datos:\n",
    "    datosAR = datosDF.to_numpy()\n",
    "    datosAR = (datosAR - datosAR.min()) / ( datosAR.max() - datosAR.min())\n",
    "else:\n",
    "    datosAR = datosDF.to_numpy()\n",
    "    \n",
    "# Crea una matriz de pesos con valores random entre 0 y 1. Usa la función random.random de la librería NumPy\n",
    "matriz_pesos = np.random.random((lado_mapa,lado_mapa,num_entradas))\n",
    "matriz_pesos_original = matriz_pesos # La guardamos para poder comparar en un futuro"
   ]
  },
  {
   "cell_type": "markdown",
   "metadata": {},
   "source": [
    "#### Funciones para entrenar/clasificar"
   ]
  },
  {
   "cell_type": "code",
   "execution_count": null,
   "metadata": {},
   "outputs": [],
   "source": [
    "# Funcion calcular BMU\n",
    "def calcular_bmu(patron_entrada, m_pesos):\n",
    "   # Obtenemos dimensiones de la matriz de pesos para los bucles\n",
    "   rows = len(m_pesos)\n",
    "   columns = len(m_pesos[0])\n",
    "   # Decimos que la ganadora al principio sea la primera neurona\n",
    "   ganadora = np.linalg.norm(np.array(m_pesos[0][0]) - np.array(patron_entrada))\n",
    "   Bmu = m_pesos[0][0]\n",
    "   BmuIndex = np.stack((0,0))\n",
    "   # Bucle que recorre toda las neuronas\n",
    "   for x in range(rows):\n",
    "      for y in range(columns):\n",
    "         # Obten la distancia euclidea entre la neurona y el patron\n",
    "         dist = np.linalg.norm(np.array(m_pesos[x][y]) - np.array(patron_entrada))\n",
    "         # Si la nueva distancia es menor que la ganadora asigna esta neurona como la nueva ganadora\n",
    "         if dist < ganadora:\n",
    "            ganadora = dist\n",
    "            Bmu = m_pesos[x][y]\n",
    "            BmuIndex = np.stack((x,y))\n",
    "   return Bmu , BmuIndex"
   ]
  },
  {
   "cell_type": "code",
   "execution_count": null,
   "metadata": {},
   "outputs": [],
   "source": [
    "# Función para calcular el descenso del coeficiente de aprendizaje (eta)\n",
    "\"\"\"\n",
    "   Calcula el Learning Rate (eta) que corresponde a la i-ésima presentación.\n",
    "   Entradas: (learning_rate_inicial, iteracion, período)\n",
    "   Salidas:  learning_rate para la iteración i\n",
    "\n",
    "\"\"\"\n",
    "def variacion_learning_rate(lr_inicial, i, n_iteraciones):\n",
    "   learning_rate = lr_inicial * (1 - i/n_iteraciones)\n",
    "   return learning_rate\n"
   ]
  },
  {
   "cell_type": "code",
   "execution_count": null,
   "metadata": {},
   "outputs": [],
   "source": [
    "# Función para calcular el descenso del vecindario (v)\n",
    "\"\"\"\n",
    "   Calcula el vecindario  (v) que corresponde a la i-ésima presentación.\n",
    "   Entradas: (vecindario_inicial, iteracion, período)\n",
    "   Salidas:  lvecindario para la iteración i\n",
    "\n",
    "\"\"\"\n",
    "def variacion_vecindario(vecindario_inicial, i, n_iteraciones):\n",
    "   vecindario = 1 + vecindario_inicial * (1 - i/n_iteraciones)\n",
    "   return vecindario"
   ]
  },
  {
   "cell_type": "code",
   "execution_count": null,
   "metadata": {},
   "outputs": [],
   "source": [
    "# Función para calcular el descenso del coeficiente de aprendizaje (eta) en función de la distancia a la BMU\n",
    "\"\"\"\n",
    "   Calcula la amortiguación de eta en función de la distancia en el mapa entre una neurona y la BMU.\n",
    "   Entradas: (distancia_BMU, vecindario_actual)\n",
    "   Salidas:  amortiguación para la iteración\n",
    "\n",
    "\"\"\"\n",
    "def decay(distancia_BMU, vecindario_actual):\n",
    "    return np.exp(-distancia_BMU**2 / (2*vecindario_actual**2))"
   ]
  },
  {
   "cell_type": "code",
   "execution_count": null,
   "metadata": {},
   "outputs": [],
   "source": [
    "#Funcion Ajuste de matriz de pesos\n",
    "def ajustarPesos(IndexN , pokemon , learning_rate , matriz_pesos , vecindario):\n",
    "    # Formula para obtener los pesos nuevos de la BMUW\n",
    "    matriz_pesos[IndexN[0]][IndexN[1]] += (learning_rate * (pokemon - matriz_pesos[IndexN[0]][IndexN[1]]))\n",
    "    # Obtenemos las dimensiones para el bucle\n",
    "    rows = len(matriz_pesos)\n",
    "    cols = len(matriz_pesos[0])\n",
    "    # Bucle que recorre todas la neuronas incluida la BMU\n",
    "    for x in range(rows):\n",
    "        for y in range(cols):\n",
    "            vectorNeurona = [x,y] #Guardamos el indice como un vector\n",
    "            vectorBMU = [IndexN[0],IndexN[1]] #Guardamos el indice como un vecto\n",
    "            #Calculamos la discacia euclidea entre ambos vectores para determinar como de lejos estan los indices\n",
    "            dist_euc = np.linalg.norm(np.array(vectorBMU) - np.array(vectorNeurona)) \n",
    "            # Si la distancia es menor o igual que el vecindario y no es 0 (caso de la BMU) entonces sabemos que es vecina de BMU\n",
    "            if(dist_euc <= vecindario and dist_euc != 0):\n",
    "              # Dime segun la distancia entre la neuroma vecina y la bmu cuanto es el decay del learning rate\n",
    "              dist_decay = decay(dist_euc,vecindario)\n",
    "              # Aplico formula de ajuste de pesos a la neurona vecina segun los datos obtenidos\n",
    "              matriz_pesos[x][y] += (learning_rate * dist_decay * (pokemon -  matriz_pesos[x][y]))  \n",
    "    return matriz_pesos"
   ]
  },
  {
   "cell_type": "markdown",
   "metadata": {},
   "source": [
    "## PINTAR HISTOGRAMA"
   ]
  },
  {
   "cell_type": "markdown",
   "metadata": {},
   "source": [
    "## SOM Entrenamiento"
   ]
  },
  {
   "cell_type": "code",
   "execution_count": null,
   "metadata": {},
   "outputs": [],
   "source": [
    "def Entrenar():\n",
    "    # Entrena la red con el dataset de entrenamiento\n",
    "    # Guardamos las variables iniciales para no modificarlas en las iteraciones de entrenamiento\n",
    "    vecindario = vecindario_inicial\n",
    "    learning_rate_ajustado = learning_rate\n",
    "    for x in range(periodo):\n",
    "        # Imprime la iteracion actual cada 100 iteraciones\n",
    "        '''\n",
    "        if(x % 100 == 0 and x != 0):\n",
    "            print('Iteracion Nº: ',x,end=\"\\r\")\n",
    "        '''\n",
    "        #Obtenemos un indice aleatorio de nuestro set de pokemon\n",
    "        numAleatorio = np.random.randint(0, tam_dataset)\n",
    "        pokemon = datosAR[numAleatorio] \n",
    "        #Pasamos el pokemon aleatorio a calcular bmu para que nos devuelva la neurona mas proxima al patron\n",
    "        Bmu , BmuIndex = calcular_bmu(pokemon,matriz_pesos)\n",
    "        #Ajustamos la matrix de pesos segun los datos obtenidos\n",
    "        matriz_pesos = ajustarPesos(BmuIndex , pokemon , learning_rate_ajustado , matriz_pesos , vecindario)\n",
    "        #Una vez ajustada la matriz de pesos modificamos el learning rate para la siguiente iteracion\n",
    "        learning_rate_ajustado = variacion_learning_rate(learning_rate, x , periodo)\n",
    "        #Una vez ajustada la matriz de pesos modificamos el vecindario para la siguiente iteracion\n",
    "        vecindario = variacion_vecindario(vecindario_inicial , x , periodo)\n",
    "    return matriz_pesos\n",
    "\n",
    "    #print('Iteracion Nº: ',x + 1)"
   ]
  },
  {
   "cell_type": "markdown",
   "metadata": {},
   "source": [
    "## SOM Clasificación"
   ]
  },
  {
   "cell_type": "code",
   "execution_count": null,
   "metadata": {},
   "outputs": [],
   "source": [
    "# Clasifica los patrones de entrenamiento con la matriz de pesos recién entrenada\n",
    "\n",
    "def Clasificacion(pokemon , matriz_pesos):\n",
    "\n",
    "    Mapa_Clasificacion = np.zeros((lado_mapa,lado_mapa,num_entradas))\n",
    "    Mapa_Activacion = np.zeros((lado_mapa,lado_mapa),dtype=int)\n",
    "    Mapa_Distancias = np.zeros((lado_mapa,lado_mapa))\n",
    "\n",
    "    clase = 0\n",
    "\n",
    "    for poke in pokemon:\n",
    "        bmu , bmuIndex = calcular_bmu(poke,matriz_pesos)\n",
    "        Mapa_Activacion[bmuIndex[0],bmuIndex[1]] += 1 # Cada vez que se activa una neurona (x,y de la ganadora ++)\n",
    "        #print(\"Neurona gandora: \", bmuIndex)\n",
    "        Mapa_Clasificacion[bmuIndex[0],bmuIndex[1]] = poke # Se guarda el último color que ha activado la neurona\n",
    "        # La media de las distancias euclidieas de esa neurona\n",
    "        Mapa_Distancias[bmuIndex[0],bmuIndex[1]] = (Mapa_Distancias[bmuIndex[0],bmuIndex[1]] + np.linalg.norm(np.array(bmu) - np.array(poke))) / 2 \n",
    "        \n",
    "    for x in range(len(Mapa_Activacion)):\n",
    "        for y in range(len(Mapa_Activacion[0])):\n",
    "            if Mapa_Activacion[x][y] > 0:\n",
    "                clase += 1\n",
    "\n",
    "    #print('Numero de Clases: ', clase)\n",
    "    return Mapa_Activacion, Mapa_Clasificacion, Mapa_Distancias, clase\n",
    "\n",
    "\n",
    "#Mapa_Activacion, Mapa_Clasificacion, Mapa_Distancias = Clasificacion(datosAR, matriz_pesos)"
   ]
  },
  {
   "cell_type": "markdown",
   "metadata": {},
   "source": [
    "## SOM Prueba"
   ]
  },
  {
   "cell_type": "code",
   "execution_count": null,
   "metadata": {},
   "outputs": [],
   "source": [
    "# Clasifica nuevos patrones\n",
    "\n",
    "#datosClasificar = np.random.rand(18,100)\n",
    "datosClasificar = datosAR\n",
    "#datosClasificar = np.transpose(datosClasificar)\n",
    "\n",
    "Mapa_Activacion, Mapa_Clasificacion, Mapa_Distancias, N_Clases = Clasificacion(datosClasificar, matriz_pesos)\n",
    "# Funcion para calcular el error de cuantificacion dado un mapa de Distancias\n",
    "def Calcular_err_cuantificacion(Mapa_Distancias):\n",
    "    ListaDistancia = []\n",
    "    for x in range(len(Mapa_Distancias)):\n",
    "        for y in range(len(Mapa_Distancias[0])):\n",
    "            if Mapa_Distancias[x][y] != 0:\n",
    "             ListaDistancia.append(Mapa_Distancias[x][y])\n",
    "    Media = sum(ListaDistancia) / len(ListaDistancia)\n",
    "    return Media\n",
    "\n",
    "# Funcion que devuelve si la segunda bmu es adyacente o no dado un patron\n",
    "def calcular_err_topologico(patron_entrada, m_pesos):\n",
    "    rows = len(m_pesos)\n",
    "    columns = len(m_pesos[0])\n",
    "    # Asignamos que la ganadora 1 sea la primera neurona y la ganadora 2 la segunda por tener un valor con cual empezar\n",
    "    ganadora = np.linalg.norm(np.array(m_pesos[0][0]) - np.array(patron_entrada))\n",
    "    ganadora2 = np.linalg.norm(np.array(m_pesos[0][1]) - np.array(patron_entrada))\n",
    "    BmuIndex = np.stack((0,0))\n",
    "    Bmu2Index = np.stack((0,1))\n",
    "    # Mismo algoritmo que CalcularBMU pero en este se guarda la segunda BMU\n",
    "    for x in range(rows):\n",
    "        for y in range(columns):\n",
    "            dist = np.linalg.norm(np.array(m_pesos[x][y]) - np.array(patron_entrada))\n",
    "            if dist < ganadora:\n",
    "                ganadora = dist\n",
    "                BmuIndex = np.stack((x,y))\n",
    "            else:\n",
    "                if dist < ganadora2:\n",
    "                    ganadora2 = dist\n",
    "                    Bmu2Index = np.stack((x,y))\n",
    "    # Devuelve 0 si es adyacente y 1 en el caso contrario\n",
    "    return (0 if np.linalg.norm(np.array(BmuIndex)-np.array(Bmu2Index)) < 2 else 1)\n",
    "\n",
    "# Aqui calculamos e imprimimos los errores\n",
    "print('Error De Cuantificacion: ', Calcular_err_cuantificacion(Mapa_Distancias))\n",
    "\n",
    "listaX = []\n",
    "# Dado un set de colores guarda en una lista los valores devueltos\n",
    "for pokemon in datosClasificar:\n",
    "    listaX.append(calcular_err_topologico(pokemon,matriz_pesos))\n",
    "# Calculamos la Media\n",
    "media = sum(listaX) / len(listaX)\n",
    "print('Error Topologico: ', media)"
   ]
  },
  {
   "cell_type": "markdown",
   "metadata": {},
   "source": [
    "### Se prueban los diferentes combinaciones de lado, periodo y coeficiente para encontrar el punto mas optimo"
   ]
  },
  {
   "cell_type": "code",
   "execution_count": 170,
   "metadata": {},
   "outputs": [
    {
     "name": "stdout",
     "output_type": "stream",
     "text": [
      "Gráfica lado de capa de kohonen:\n"
     ]
    },
    {
     "data": {
      "image/png": "[encoded data removed]",
      "text/plain": [
       "<Figure size 640x480 with 3 Axes>"
      ]
     },
     "metadata": {
      "needs_background": "light"
     },
     "output_type": "display_data"
    }
   ],
   "source": [
    "import matplotlib.pyplot as plt\n",
    "from matplotlib.pyplot import figure\n",
    "figure(figsize=(8, 6), dpi=80)\n",
    "# Valores que tenemos que encontrar\n",
    "lado_mapa_mat = [i for i in range(5,50,5)] # lista de 5 a 50 en intervalos de 5\n",
    "periodo1 = [i*num_colores for i in range(1,21,1)]\n",
    "periodo2 = [i*num_colores for i in range(20,81,10)]\n",
    "periodo_mat = []\n",
    "for i in [periodo1, periodo2]:\n",
    "    for j in i:\n",
    "        periodo_mat.append(j) # guardo todos los posibles periodos\n",
    "learning_rate_mat = [float(i/100) for i in range(5,51,5)] # de 0.05 a 0.5 guardados\n",
    "\n",
    "# ---------------------------------------------------------------------------------------------------------------\n",
    "# Primero encontramos el mejor lado mapa usando de periodo periodo_mat[periodo_mat.length/2] y learning rate 0.2\n",
    "# ---------------------------------------------------------------------------------------------------------------\n",
    "\n",
    "clase_graf = []\n",
    "cuant_graf = []\n",
    "topo_graf = []\n",
    "precision = 5 # queremos que los datos resultantes sean la media entre x resultados obtenidos ya que son aleatorios\n",
    "for i in lado_mapa_mat:\n",
    "    # Guardo los datos en concreto:\n",
    "    lado_mapa = i\n",
    "    periodo = periodo_mat[int(len(periodo_mat)/2)]\n",
    "    learning_rate = 0.2\n",
    "\n",
    "    num_clase = []\n",
    "    errCuant = []\n",
    "    errTopo = []\n",
    "    print('Lado mapa: ',i,end=\"\\r\")\n",
    "    for inc in range(precision):\n",
    "        matriz_pesos = np.random.random((lado_mapa,lado_mapa,num_entradas))\n",
    "        # Se entrena\n",
    "        matriz_pesos = Entrenar(matriz_pesos)\n",
    "        # Se clasifica\n",
    "        Mapa_Activacion, Mapa_Clasificacion, Mapa_Distancias, n = Clasificacion(datosAR, matriz_pesos) # ha sido cambiado para hacer return del numero de clases tambien\n",
    "        num_clase.append(n)\n",
    "        # Se calcula el error cuantificacion\n",
    "        errCuant.append(Calcular_err_cuantificacion(Mapa_Distancias))\n",
    "        # Calculamos el error topologico\n",
    "        listaX = []\n",
    "        for pokemon in datosClasificar:\n",
    "            listaX.append(calcular_err_topologico(pokemon,matriz_pesos))\n",
    "        # Calculamos la Media\n",
    "        errTopo.append(sum(listaX) / len(listaX))\n",
    "    # Hacemos la media de los 5 elementos\n",
    "    num_clase = np.mean(num_clase)\n",
    "    errCuant = np.mean(errCuant)\n",
    "    errTopo = np.mean(errTopo)\n",
    "    # Guardo todo en las matrices\n",
    "    clase_graf.append(num_clase)\n",
    "    cuant_graf.append(errCuant)\n",
    "    topo_graf.append(errTopo)\n",
    "\n",
    "print(\"Gráfica lado de capa de kohonen:\")\n",
    "# Se hace una gráfica con los datos obtenidos\n",
    "plt.xlabel('Lado kohonen')\n",
    "plt.ylabel('Clases')\n",
    "# Influencia del lado KHONONEN en número de clases\n",
    "linea_clases = plt.plot(lado_mapa_mat,clase_graf,'r')\n",
    "plt.twinx()\n",
    "# Influencia del lado KHONONEN en errores\n",
    "plt.ylabel('Errores')\n",
    "# Error cuantificable\n",
    "linea_cuantificable = plt.plot(lado_mapa_mat,cuant_graf,'g') \n",
    "plt.twiny()\n",
    "# Error topológico\n",
    "linea_topologico = plt.plot(lado_mapa_mat,topo_graf,'b') "
   ]
  },
  {
   "cell_type": "code",
   "execution_count": 171,
   "metadata": {},
   "outputs": [
    {
     "name": "stdout",
     "output_type": "stream",
     "text": [
      "Gráfica coeficiente de aprendizaje:\n"
     ]
    },
    {
     "data": {
      "image/png": "[encoded data removed]",
      "text/plain": [
       "<Figure size 640x480 with 3 Axes>"
      ]
     },
     "metadata": {
      "needs_background": "light"
     },
     "output_type": "display_data"
    }
   ],
   "source": [
    "# ---------------------------------------------------------------------------------------------------------------------------------------\n",
    "# Ahora que podemos ver que lado de la capa de kohonen, vemos qué coeficiente de aprendizage es mas eficaz (lo introducimos lo primero)\n",
    "# ---------------------------------------------------------------------------------------------------------------------------------------\n",
    "lado = 25\n",
    "\n",
    "clase_graf = []\n",
    "cuant_graf = []\n",
    "topo_graf = []\n",
    "precision = 5 # queremos que los datos resultantes sean la media entre x resultados obtenidos ya que son aleatorios\n",
    "for i in learning_rate_mat:\n",
    "    # Guardo los datos en concreto:\n",
    "    lado_mapa = lado\n",
    "    periodo = periodo_mat[int(len(periodo_mat)/2)]\n",
    "    learning_rate = i\n",
    "\n",
    "    num_clase = []\n",
    "    errCuant = []\n",
    "    errTopo = []\n",
    "    print('Coef. aprendizage: ',i,end=\"\\r\")\n",
    "    for inc in range(precision):\n",
    "        matriz_pesos = np.random.random((lado_mapa,lado_mapa,num_entradas))\n",
    "        # Se entrena\n",
    "        matriz_pesos = Entrenar(matriz_pesos)\n",
    "        # Se clasifica\n",
    "        Mapa_Activacion, Mapa_Clasificacion, Mapa_Distancias, n = Clasificacion(datosAR, matriz_pesos) # ha sido cambiado para hacer return del numero de clases tambien\n",
    "        num_clase.append(n)\n",
    "        # Se calcula el error cuantificacion\n",
    "        errCuant.append(Calcular_err_cuantificacion(Mapa_Distancias))\n",
    "        # Calculamos el error topologico\n",
    "        listaX = []\n",
    "        for pokemon in datosClasificar:\n",
    "            listaX.append(calcular_err_topologico(pokemon,matriz_pesos))\n",
    "        # Calculamos la Media\n",
    "        errTopo.append(sum(listaX) / len(listaX))\n",
    "    # Hacemos la media de los 5 elementos\n",
    "    num_clase = np.mean(num_clase)\n",
    "    errCuant = np.mean(errCuant)\n",
    "    errTopo = np.mean(errTopo)\n",
    "    # Guardo todo en las matrices\n",
    "    clase_graf.append(num_clase)\n",
    "    cuant_graf.append(errCuant)\n",
    "    topo_graf.append(errTopo)\n",
    "\n",
    "print(\"Gráfica coeficiente de aprendizaje:\")\n",
    "figure(figsize=(8, 6), dpi=80)\n",
    "plt.xlabel('Coeficiente aprendizaje')\n",
    "plt.ylabel('Clases')\n",
    "# Influencia del Coeficiente en número de clases\n",
    "linea_clases = plt.plot(learning_rate_mat,clase_graf,'r')\n",
    "plt.twinx()\n",
    "# Influencia del Coeficiente en errores\n",
    "plt.ylabel('Errores')\n",
    "# Error cuantificable\n",
    "linea_cuantificable = plt.plot(learning_rate_mat,cuant_graf,'g') \n",
    "plt.twiny()\n",
    "# Error topológico\n",
    "linea_topologico = plt.plot(learning_rate_mat,topo_graf,'b') "
   ]
  },
  {
   "cell_type": "code",
   "execution_count": 1,
   "metadata": {},
   "outputs": [
    {
     "ename": "NameError",
     "evalue": "name 'periodo_mat' is not defined",
     "output_type": "error",
     "traceback": [
      "\u001b[1;31m---------------------------------------------------------------------------\u001b[0m",
      "\u001b[1;31mNameError\u001b[0m                                 Traceback (most recent call last)",
      "\u001b[1;32m<ipython-input-1-7177ee65054e>\u001b[0m in \u001b[0;36m<module>\u001b[1;34m\u001b[0m\n\u001b[0;32m      9\u001b[0m \u001b[0mtopo_graf\u001b[0m \u001b[1;33m=\u001b[0m \u001b[1;33m[\u001b[0m\u001b[1;33m]\u001b[0m\u001b[1;33m\u001b[0m\u001b[1;33m\u001b[0m\u001b[0m\n\u001b[0;32m     10\u001b[0m \u001b[0mprecision\u001b[0m \u001b[1;33m=\u001b[0m \u001b[1;36m5\u001b[0m \u001b[1;31m# queremos que los datos resultantes sean la media entre x resultados obtenidos ya que son aleatorios\u001b[0m\u001b[1;33m\u001b[0m\u001b[1;33m\u001b[0m\u001b[0m\n\u001b[1;32m---> 11\u001b[1;33m \u001b[1;32mfor\u001b[0m \u001b[0mi\u001b[0m \u001b[1;32min\u001b[0m \u001b[0mperiodo_mat\u001b[0m\u001b[1;33m:\u001b[0m\u001b[1;33m\u001b[0m\u001b[1;33m\u001b[0m\u001b[0m\n\u001b[0m\u001b[0;32m     12\u001b[0m     \u001b[1;31m# Guardo los datos en concreto:\u001b[0m\u001b[1;33m\u001b[0m\u001b[1;33m\u001b[0m\u001b[1;33m\u001b[0m\u001b[0m\n\u001b[0;32m     13\u001b[0m     \u001b[0mlado_mapa\u001b[0m \u001b[1;33m=\u001b[0m \u001b[0mlado\u001b[0m\u001b[1;33m\u001b[0m\u001b[1;33m\u001b[0m\u001b[0m\n",
      "\u001b[1;31mNameError\u001b[0m: name 'periodo_mat' is not defined"
     ]
    }
   ],
   "source": [
    "# ------------------------------------------------------------------------------------------------------------\n",
    "# Ahora ya sabemos el tamaño del lado y el coeficiente de aprendizaje mas óptimo, queda averiguar el periodo \n",
    "# ------------------------------------------------------------------------------------------------------------\n",
    "lado = 25\n",
    "coef = 0.3\n",
    "\n",
    "clase_graf = []\n",
    "cuant_graf = []\n",
    "topo_graf = []\n",
    "precision = 5 # queremos que los datos resultantes sean la media entre x resultados obtenidos ya que son aleatorios\n",
    "for i in periodo_mat:\n",
    "    # Guardo los datos en concreto:\n",
    "    lado_mapa = lado\n",
    "    periodo = i\n",
    "    learning_rate = coef\n",
    "\n",
    "    num_clase = []\n",
    "    errCuant = []\n",
    "    errTopo = []\n",
    "    print('Periodo: ',i,end=\"\\r\")\n",
    "    for inc in range(precision):\n",
    "        matriz_pesos = np.random.random((lado_mapa,lado_mapa,num_entradas))\n",
    "        # Se entrena\n",
    "        matriz_pesos = Entrenar(matriz_pesos)\n",
    "        # Se clasifica\n",
    "        Mapa_Activacion, Mapa_Clasificacion, Mapa_Distancias, n = Clasificacion(datosAR, matriz_pesos) # ha sido cambiado para hacer return del numero de clases tambien\n",
    "        num_clase.append(n)\n",
    "        # Se calcula el error cuantificacion\n",
    "        errCuant.append(Calcular_err_cuantificacion(Mapa_Distancias))\n",
    "        # Calculamos el error topologico\n",
    "        listaX = []\n",
    "        for pokemon in datosClasificar:\n",
    "            listaX.append(calcular_err_topologico(pokemon,matriz_pesos))\n",
    "        # Calculamos la Media\n",
    "        errTopo.append(sum(listaX) / len(listaX))\n",
    "    # Hacemos la media de los 5 elementos\n",
    "    num_clase = np.mean(num_clase)\n",
    "    errCuant = np.mean(errCuant)\n",
    "    errTopo = np.mean(errTopo)\n",
    "    # Guardo todo en las matrices\n",
    "    clase_graf.append(num_clase)\n",
    "    cuant_graf.append(errCuant)\n",
    "    topo_graf.append(errTopo)\n",
    "\n",
    "print(\"Gráfica periodo:\")\n",
    "figure(figsize=(30, 5), dpi=80)\n",
    "plt.xlabel('Periodo')\n",
    "plt.ylabel('Clases')\n",
    "# Influencia periodo en número de clases\n",
    "linea_clases = plt.plot(periodo_mat,clase_graf,'r')\n",
    "plt.twinx()\n",
    "# Influencia periodo en errores\n",
    "plt.ylabel('Errores')\n",
    "# Error cuantificable\n",
    "linea_cuantificable = plt.plot(periodo_mat,cuant_graf,'g') \n",
    "plt.twiny()\n",
    "# Error topológico\n",
    "linea_topologico = plt.plot(periodo_mat,topo_graf,'b') "
   ]
  },
  {
   "cell_type": "code",
   "execution_count": 173,
   "metadata": {},
   "outputs": [
    {
     "name": "stdout",
     "output_type": "stream",
     "text": [
      "[5, 10, 15, 20, 25, 30, 35, 40, 45]\n",
      "[300, 600, 900, 1200, 1500, 1800, 2100, 2400, 2700, 3000, 3300, 3600, 3900, 4200, 4500, 4800, 5100, 5400, 5700, 6000, 6000, 9000, 12000, 15000, 18000, 21000, 24000]\n",
      "[0.05, 0.1, 0.15, 0.2, 0.25, 0.3, 0.35, 0.4, 0.45, 0.5]\n",
      "4200\n"
     ]
    }
   ],
   "source": [
    "# código de prueba \n",
    "lado_mapa_mat = [i for i in range(5,50,5)] \n",
    "print(lado_mapa_mat)\n",
    "num_colores = 300\n",
    "periodo1 = [i*num_colores for i in range(1,21,1)]\n",
    "periodo2 = [i*num_colores for i in range(20,81,10)]\n",
    "periodo_mat = []\n",
    "for i in [periodo1, periodo2]:\n",
    "    for j in i:\n",
    "        periodo_mat.append(j)\n",
    "print(periodo_mat)\n",
    "learning_rate_mat = [float(i/100) for i in range(5,51,5)]\n",
    "print(learning_rate_mat)\n",
    "print(periodo_mat[int(len(periodo_mat)/2)])"
   ]
  }
 ],
 "metadata": {
  "anaconda-cloud": {},
  "kernelspec": {
   "display_name": "Python 3",
   "language": "python",
   "name": "python3"
  },
  "language_info": {
   "codemirror_mode": {
    "name": "ipython",
    "version": 3
   },
   "file_extension": ".py",
   "mimetype": "text/x-python",
   "name": "python",
   "nbconvert_exporter": "python",
   "pygments_lexer": "ipython3",
   "version": "3.8.5"
  }
 },
 "nbformat": 4,
 "nbformat_minor": 2
}
