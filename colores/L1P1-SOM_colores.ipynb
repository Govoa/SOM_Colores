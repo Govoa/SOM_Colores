{
 "cells": [
  {
   "cell_type": "markdown",
   "metadata": {},
   "source": [
    "# Práctica 1 - Self-Organising Maps - COLORES\n",
    "## Preparación de entorno\n",
    "#### Importar librerías de código"
   ]
  },
  {
   "cell_type": "code",
<<<<<<< HEAD
   "execution_count": 87,
=======
   "execution_count": 389,
>>>>>>> Marcos
   "metadata": {
    "scrolled": true
   },
   "outputs": [],
   "source": [
    "# from __future__ import division\n",
    "\n",
    "import numpy as np\n",
    "from matplotlib import pyplot as plt\n",
    "from matplotlib import patches as patches\n",
<<<<<<< HEAD
    "from sklearn import preprocessing\n",
=======
    "import math\n",
>>>>>>> Marcos
    "\n",
    "%matplotlib inline"
   ]
  },
  {
   "cell_type": "markdown",
   "metadata": {},
   "source": [
    "#### Dataset que se va a utilizar para el entrenamiento"
   ]
  },
  {
   "cell_type": "code",
<<<<<<< HEAD
   "execution_count": 88,
=======
   "execution_count": 390,
>>>>>>> Marcos
   "metadata": {
    "collapsed": true
   },
   "outputs": [],
   "source": [
    "# Código para obtener el Dataset que se va a usar en el entrenamiento\n",
    "valor_max = 256\n",
    "valor_min = 0\n",
    "valores_color = 3\n",
    "num_colores = 100\n",
    "datos = np.random.randint(valor_min, valor_max, (valores_color, num_colores))"
   ]
  },
  {
   "cell_type": "markdown",
   "metadata": {},
   "source": [
    "## SOM Setup\n",
    "#### Variables definidas por el alumno"
   ]
  },
  {
   "cell_type": "code",
<<<<<<< HEAD
   "execution_count": 89,
=======
   "execution_count": 391,
>>>>>>> Marcos
   "metadata": {
    "collapsed": true
   },
   "outputs": [],
   "source": [
    "# Inicializa tamaño del mapa de Kohonen, número de iteraciones y learning rate\n",
    "# Inicializa normalizar_datos dependiendo de si tienes que normalizar los datos o no\n",
<<<<<<< HEAD
    "lado_mapa = 40\n",
    "periodo = 1000\n",
    "learning_rate = 0.2\n",
=======
    "lado_mapa = 20 # 7\n",
    "periodo = 300\n",
    "learning_rate = 0.1\n",
>>>>>>> Marcos
    "normalizar_datos = True"
   ]
  },
  {
   "cell_type": "markdown",
   "metadata": {},
   "source": [
    "#### A partir de este punto solo hay cálculos. No se introducen más valores \"a mano\""
   ]
  },
  {
   "cell_type": "code",
<<<<<<< HEAD
   "execution_count": 90,
=======
   "execution_count": 392,
>>>>>>> Marcos
   "metadata": {
    "collapsed": true
   },
   "outputs": [],
   "source": [
    "# Establece el numero de entradas del mapa y el número de datos que se van a usar para entrenar. \n",
    "# Utiliza una función que obtenga automáticamente los valores a partir del Dataset.\n",
    "num_entradas = valores_color\n",
    "num_datos = num_colores\n",
    "\n",
    "# Calcula el vecindario inicial. Debe ser la mitad del lado del mapa de Kohonen\n",
<<<<<<< HEAD
    "vecindario_inicial = int(lado_mapa/2)\n",
    "\n",
    "# Normaliza los datos si fuese necesario dividiendo cada dato por el máximo en la matriz\n",
    "if normalizar_datos:\n",
    "    datos = datos / 255\n",
    "    \n",
=======
    "vecindario = int(lado_mapa/2)\n",
    "\n",
    "# Normaliza los datos si fuese necesario dividiendo cada dato por el máximo en la matriz\n",
    "if normalizar_datos:\n",
    "    #datos = preprocessing.normalize(datos)\n",
    "    datos = datos / 255\n",
>>>>>>> Marcos
    "# Crea una matriz de pesos con valores random entre 0 y 1. Usa la función random.random de la librería NumPy\n",
    "matriz_pesos = np.random.random((lado_mapa,lado_mapa,valores_color))"
   ]
  },
  {
   "cell_type": "markdown",
   "metadata": {},
   "source": [
    "#### Funciones para entrenar/clasificar"
   ]
  },
  {
   "cell_type": "code",
<<<<<<< HEAD
   "execution_count": 91,
   "metadata": {},
   "outputs": [],
   "source": [
    "# Funcion calcular BMU\n",
    "def calcular_bmu(patron_entrada, m_pesos):\n",
    "   # Obtenemos dimensiones de la matriz de pesos para los bucles\n",
    "   rows = len(m_pesos)\n",
    "   columns = len(m_pesos[0])\n",
    "   # Decimos que la ganadora al principio sea la primera neurona\n",
    "   ganadora = np.linalg.norm(np.array(m_pesos[0][0]) - np.array(patron_entrada))\n",
    "   Bmu = m_pesos[0][0]\n",
    "   BmuIndex = np.stack((0,0))\n",
    "   # Bucle que recorre toda las neuronas\n",
    "   for x in range(rows):\n",
    "      for y in range(columns):\n",
    "         # Obten la distancia euclidea entre la neurona y el patron\n",
    "         dist = np.linalg.norm(np.array(m_pesos[x][y]) - np.array(patron_entrada))\n",
    "         # Si la nueva distancia es menor que la ganadora asigna esta neurona como la nueva ganadora\n",
    "         if dist < ganadora:\n",
    "            ganadora = dist\n",
    "            Bmu = m_pesos[x][y]\n",
    "            BmuIndex = np.stack((x,y))\n",
    "   return Bmu , BmuIndex\n",
    "\n"
=======
   "execution_count": 393,
   "metadata": {
    "collapsed": true
   },
   "outputs": [],
   "source": [
    "# Función para encontrar la BMU\n",
    "\"\"\"\n",
    "   Encuentra la BMU para un patrón de entrada.\n",
    "   Entradas: (patrón_de_entrada, matriz_de_pesos, número_de_entradas)\n",
    "   Salidas:  (bmu, bmu_idx) tupla donde\n",
    "               bmu: vector de pesos de la neurona ganadora\n",
    "               bum_idx: coordenadas de la neurona ganadora\n",
    "\"\"\"\n",
    "def calcular_bmu(patron_entrada, m_pesos, m):\n",
    "   rows = len(m_pesos)\n",
    "   columns = len(m_pesos[0])\n",
    "   vectorPesos =  []\n",
    "   ganadora = 2000\n",
    "   for x in range(rows):\n",
    "      for y in range(columns):\n",
    "         for z in range(m):\n",
    "            vectorPesos.append(m_pesos[x][y][z])\n",
    "         dist = np.linalg.norm(np.array(vectorPesos - patron_entrada))\n",
    "         if dist < ganadora:\n",
    "            ganadora = dist\n",
    "            Bmu = vectorPesos\n",
    "            BmuIndex = np.stack((x,y))\n",
    "         vectorPesos = []\n",
    "   return Bmu , BmuIndex"
>>>>>>> Marcos
   ]
  },
  {
   "cell_type": "code",
<<<<<<< HEAD
   "execution_count": 92,
=======
   "execution_count": 394,
>>>>>>> Marcos
   "metadata": {
    "collapsed": true
   },
   "outputs": [],
   "source": [
    "# Función para calcular el descenso del coeficiente de aprendizaje (eta)\n",
    "\"\"\"\n",
    "   Calcula el Learning Rate (eta) que corresponde a la i-ésima presentación.\n",
    "   Entradas: (learning_rate_inicial, iteracion, período)\n",
    "   Salidas:  learning_rate para la iteración i\n",
    "\n",
    "\"\"\"\n",
    "def variacion_learning_rate(lr_inicial, i, n_iteraciones):\n",
    "   learning_rate = lr_inicial * (1 - i/n_iteraciones)\n",
    "   return learning_rate\n"
   ]
  },
  {
   "cell_type": "code",
<<<<<<< HEAD
   "execution_count": 93,
=======
   "execution_count": 395,
>>>>>>> Marcos
   "metadata": {
    "collapsed": true
   },
   "outputs": [],
   "source": [
    "# Función para calcular el descenso del vecindario (v)\n",
    "\"\"\"\n",
    "   Calcula el vecindario  (v) que corresponde a la i-ésima presentación.\n",
    "   Entradas: (vecindario_inicial, iteracion, período)\n",
    "   Salidas:  lvecindario para la iteración i\n",
    "\n",
    "\"\"\"\n",
    "def variacion_vecindario(vecindario_inicial, i, n_iteraciones):\n",
    "   vecindario = 1 + vecindario_inicial * (1 - i/n_iteraciones)\n",
    "   return vecindario\n",
    "   "
   ]
  },
  {
   "cell_type": "code",
<<<<<<< HEAD
   "execution_count": 94,
=======
   "execution_count": 396,
>>>>>>> Marcos
   "metadata": {
    "collapsed": true
   },
   "outputs": [],
   "source": [
    "# Función para calcular el descenso del coeficiente de aprendizaje (eta) en función de la distancia a la BMU\n",
    "\"\"\"\n",
    "   Calcula la amortiguación de eta en función de la distancia en el mapa entre una neurona y la BMU.\n",
    "   Entradas: (distancia_BMU, vecindario_actual)\n",
    "   Salidas:  amortiguación para la iteración\n",
    "\n",
    "\"\"\"\n",
    "def decay(distancia_BMU, vecindario_actual):\n",
    "    return np.exp(-distancia_BMU**2 / (2*vecindario_actual**2))"
   ]
  },
  {
   "cell_type": "code",
<<<<<<< HEAD
   "execution_count": 95,
   "metadata": {},
   "outputs": [],
   "source": [
    "#Funcion Ajuste de matriz de pesos\n",
    "def ajustarPesos(IndexN , color , learning_rate , matriz_pesos , vecindario):\n",
    "    # Formula para obtener los pesos nuevos de la BMU\n",
    "    matriz_pesos[IndexN[0]][IndexN[1]] += (learning_rate * (color - matriz_pesos[IndexN[0]][IndexN[1]]))\n",
    "    # Obtenemos las dimensiones para el bucle\n",
    "    rows = len(matriz_pesos)\n",
    "    cols = len(matriz_pesos[0])\n",
    "    # Bucle que recorre todas la neuronas incluida la BMU\n",
    "    for x in range(rows):\n",
    "        for y in range(cols):\n",
    "            vectorNeurona = [x,y] #Guardamos el indice como un vector\n",
    "            vectorBMU = [IndexN[0],IndexN[1]] #Guardamos el indice como un vecto\n",
    "            #Calculamos la discacia euclidea entre ambos vectores para determinar como de lejos estan los indices\n",
    "            dist_euc = np.linalg.norm(np.array(vectorBMU) - np.array(vectorNeurona)) \n",
    "            # Si la distancia es menor o igual que el vecindario y no es 0 (caso de la BMU) entonces sabemos que es vecina de BMU\n",
    "            if(dist_euc <= vecindario and dist_euc != 0):\n",
    "              # Dime segun la distancia entre la neuroma vecina y la bmu cuanto es el decay del learning rate\n",
    "              dist_decay = decay(dist_euc,vecindario)\n",
    "              # Aplico formula de ajuste de pesos a la neurona vecina segun los datos obtenidos\n",
    "              matriz_pesos[x][y] += (learning_rate * dist_decay * (color -  matriz_pesos[x][y]))  \n",
    "            \n",
    "    return matriz_pesos\n"
=======
   "execution_count": 397,
   "metadata": {},
   "outputs": [
    {
     "data": {
      "text/plain": [
       "'\\nelemento = []\\nelemento.append(np.random.randint(0,7))\\nelemento.append(np.random.randint(0,7))\\nprint(elemento)\\najustarPesos(elemento)\\n'"
      ]
     },
     "execution_count": 397,
     "metadata": {},
     "output_type": "execute_result"
    }
   ],
   "source": [
    "#Funcion Ajuste de matriz de pesos\n",
    "def ajustarPesos(IndexN, color , learning_rate , matriz_pesos, vecindario_actual):\n",
    "    #Cambiamos el peso de la neurona dada por el BMU\n",
    "    '''\n",
    "    matriz_pesos[IndexN[0]][IndexN[1]] = matriz_pesos[IndexN[0]][IndexN[1]] + (learning_rate * (color - matriz_pesos[IndexN[0]][IndexN[1]]))\n",
    "    '''\n",
    "    #ajustamos las neuronas adyacentes usando decay()\n",
    "    veci = vecindario_actual # variable vecindario\n",
    "    '''\n",
    "    print(\"vecindario: \",veci)\n",
    "    izq = False\n",
    "    der = False \n",
    "    arr = False \n",
    "    abj = False\n",
    "    #izquiera (-1, 0)\n",
    "    if (IndexN[0]-veci) >= 0: # el indice menos el numero de neuronas adyacente debe ser mayor o igual que 0\n",
    "        izq = True # se puede avanzar hacia la izquierda\n",
    "    #derecha (1,0)\n",
    "    if (IndexN[0]+veci) < lado_mapa: \n",
    "        der = True \n",
    "    #arriba (0,1)\n",
    "    if (IndexN[1]+veci) < lado_mapa: \n",
    "        arr = True \n",
    "    #abajo (0,-1)\n",
    "    if (IndexN[1]-veci) >= 0: \n",
    "        abj = True \n",
    "    # el bucle se ejecuta 2 veces la longitud del vecindario mas 1 (el bmu) si izquierda y derecha son true, es decir, no se sale de la matriz\n",
    "    # los if son: si uno de los dos booleanos son true escribimos 2xPosicionBMU+1 si no si alguno de los dos lo es escribimos 2xPosicionBMU y si ninguno lo es escribimos lo anterior -1 \n",
    "    for j in range((2*veci) + 1 if izq and der else (2*veci) if izq or der else (2*veci - 1)): \n",
    "        indX = IndexN[0] - veci + j if izq else IndexN[0] - veci + j + 1 # posicion de la neurona BMU - valor del vecindario - elemento iterativo (se suma 1 si está en un límite)\n",
    "        for k in range ((2*veci) + 1 if arr and abj else (2*veci) if arr or abj else (2*veci - 1)): # igual que el bucle superior ya que el objetivo es recorrer una matriz cuadrada\n",
    "            indY = IndexN[1] - veci + k if abj else IndexN[1] - veci + k + 1\n",
    "            if 0 <= indX < lado_mapa and 0 <= indY < lado_mapa: # necesario a pesar de tratar de calcularlo \"a mano\" ya que no se contaba con que se saliese de la matriz por mas de un valor\n",
    "                dist = np.linalg.norm(np.array(IndexN) - np.array([indX, indY]))\n",
    "                a = decay(dist, veci)\n",
    "                # aqui actualizamos la matriz de pesos en la neurona indX, indY\n",
    "                matriz_pesos[indX,indY] = matriz_pesos[indX,indY] + (learning_rate * a *(color - matriz_pesos[indX,indY]))\n",
    "                \n",
    "    return matriz_pesos\n",
    "    '''\n",
    "    #'''\n",
    "    # Situamos las nuevas coordenadas en la esquina izquierda del vecindario de las coordenadas dadas\n",
    "    indX = IndexN[0] - veci\n",
    "    indY = IndexN[1] - veci\n",
    "    # Se comprueba si estan o no fuera de la matriz de pesos\n",
    "    for i in range(int(2*veci + 1)):\n",
    "        for j in range(int(2*veci + 1)):\n",
    "            indX = int(IndexN[0] - veci + i )\n",
    "            indY = int(IndexN[1] - veci + j)\n",
    "            if 0 <= indX < lado_mapa and 0 <= indY < lado_mapa: # si esta dentro del rango de la matriz de pesos:\n",
    "                dist = np.linalg.norm(np.array(IndexN) - np.array([indX, indY]))\n",
    "                a = decay(dist, veci)\n",
    "                # aqui actualizamos la matriz de pesos en la neurona indX, indY\n",
    "                matriz_pesos[indX,indY] = matriz_pesos[indX,indY] + (learning_rate * a *(color - matriz_pesos[indX,indY]))\n",
    "\n",
    "    return matriz_pesos\n",
    "    #'''\n",
    "'''\n",
    "elemento = []\n",
    "elemento.append(np.random.randint(0,7))\n",
    "elemento.append(np.random.randint(0,7))\n",
    "print(elemento)\n",
    "ajustarPesos(elemento)\n",
    "'''"
>>>>>>> Marcos
   ]
  },
  {
   "cell_type": "markdown",
   "metadata": {},
   "source": [
    "#### Funciones para dibujar la salida de la red"
   ]
  },
  {
   "cell_type": "code",
<<<<<<< HEAD
   "execution_count": 96,
=======
   "execution_count": 398,
>>>>>>> Marcos
   "metadata": {
    "collapsed": true
   },
   "outputs": [],
   "source": [
    "# Función para pintar una matriz de valores como colores RGB\n",
    "def pintar_mapa(matriz_valores):\n",
    "    fig = plt.figure()\n",
    "    \n",
    "    # Establece ejes\n",
    "    ax = fig.add_subplot(111, aspect='equal')\n",
    "    ax.set_xlim((0, matriz_pesos.shape[0]+1))\n",
    "    ax.set_ylim((0, matriz_pesos.shape[1]+1))\n",
    "    ax.set_title('Self-Organising Map después de %d iteraciones' % periodo)\n",
    "\n",
    "    # Dibuja los rectángulos de color RGB\n",
    "    for x in range(1, matriz_valores.shape[0] + 1):\n",
    "        for y in range(1, matriz_valores.shape[1] + 1):\n",
    "            ax.add_patch(patches.Rectangle((x-0.5, y-0.5), 1, 1,\n",
    "                         facecolor=matriz_valores[x-1,y-1,:],\n",
    "                         edgecolor='none'))\n",
    "    plt.show()"
   ]
  },
  {
   "cell_type": "markdown",
   "metadata": {},
   "source": [
    "## SOM Entrenamiento"
   ]
  },
  {
   "cell_type": "code",
<<<<<<< HEAD
   "execution_count": 97,
=======
   "execution_count": 399,
>>>>>>> Marcos
   "metadata": {
    "collapsed": true
   },
   "outputs": [
    {
<<<<<<< HEAD
     "data": {
      "image/png": "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",
=======
     "name": "stdout",
     "output_type": "stream",
     "text": [
      "300\r"
     ]
    },
    {
     "data": {
      "image/png": "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",
>>>>>>> Marcos
      "text/plain": [
       "<Figure size 432x288 with 1 Axes>"
      ]
     },
     "metadata": {
      "needs_background": "light"
     },
     "output_type": "display_data"
    },
    {
<<<<<<< HEAD
     "name": "stdout",
     "output_type": "stream",
     "text": [
      "Iteracion Nº:  1000\r"
     ]
    },
    {
     "data": {
      "image/png": "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",
=======
     "data": {
      "image/png": "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",
>>>>>>> Marcos
      "text/plain": [
       "<Figure size 432x288 with 1 Axes>"
      ]
     },
     "metadata": {
      "needs_background": "light"
     },
     "output_type": "display_data"
    }
   ],
   "source": [
    "# Entrena la red con el dataset de entrenamiento\n",
<<<<<<< HEAD
    "\n",
    "# Pintamos mapa de pesos inicial\n",
    "pintar_mapa(matriz_pesos)\n",
    "# Reshape de los datos para que se pueda operar con la matriz de pesos\n",
    "datosT = np.transpose(datos)\n",
    "# Guardamos las variables iniciales para no modificarlas en las iteraciones de entrenamiento\n",
    "vecindario = vecindario_inicial\n",
    "learning_rate_ajustado = learning_rate\n",
    "for x in range(periodo):\n",
    "    # Imprime la iteracion actual cada 100 iteraciones\n",
    "    if(x % 100 == 0 and x != 0):\n",
    "        print('Iteracion Nº: ',x,end=\"\\r\")\n",
    "    #Obtenemos un indice aleatorio de nuestro set de colores\n",
    "    numAleatorio = np.random.randint(0, num_colores)\n",
    "    color = datosT[numAleatorio] \n",
    "    #Pasamos el color aleatorio a calcular bmu para que nos devuelva la neurona mas proxima al patron\n",
    "    Bmu , BmuIndex = calcular_bmu(color,matriz_pesos)\n",
    "    #Ajustamos la matrix de pesos segun los datos obtenidos\n",
    "    matriz_pesos = ajustarPesos(BmuIndex , color , learning_rate_ajustado , matriz_pesos , vecindario)\n",
    "    #Una vez ajustada la matriz de pesos modificamos el learning rate para la siguiente iteracion\n",
    "    learning_rate_ajustado = variacion_learning_rate(learning_rate, x , periodo)\n",
    "    #Una vez ajustada la matriz de pesos modificamos el vecindario para la siguiente iteracion\n",
    "    vecindario = variacion_vecindario(vecindario_inicial , x , periodo)\n",
    "\n",
    "#Pintamos mapa de pesos final\n",
    "print('Iteracion Nº: ',x + 1,end=\"\\r\")\n",
=======
    "matriz_pesos_orig = matriz_pesos.copy()\n",
    "datosT = np.transpose(datos)\n",
    "listabmu = []\n",
    "listabmu.append([-1,-1])\n",
    "learning_rate_actual = learning_rate\n",
    "vecindario_actual = vecindario\n",
    "for x in range(periodo):\n",
    "    if((x+1) % 100 == 0):\n",
    "        print(x+1,end=\"\\r\")\n",
    "    numAleatorio = np.random.randint(0, num_colores)\n",
    "    color = datosT[numAleatorio]\n",
    "    Bmu , BmuIndex = calcular_bmu(color,matriz_pesos,valores_color)\n",
    "    #creacion de la lista de indexes usados\n",
    "    isNotInListIndex = True\n",
    "    for index in listabmu:\n",
    "        if index[0] == BmuIndex[0] and index[1] == BmuIndex[1]:\n",
    "            isNotInListIndex = False\n",
    "    if isNotInListIndex:\n",
    "        listabmu.append(BmuIndex)\n",
    "    #Algoritmo de aprendizaje:\n",
    "    #print(matriz_pesos[BmuIndex[0]][BmuIndex[1]])\n",
    "    matriz_pesos = ajustarPesos(BmuIndex , color , learning_rate_actual , matriz_pesos, vecindario_actual).copy()\n",
    "    #print(matriz_pesos[BmuIndex[0]][BmuIndex[1]])\n",
    "    learning_rate_actual = variacion_learning_rate(learning_rate, x, periodo)\n",
    "    vecindario_actual = variacion_vecindario(vecindario, x, periodo)\n",
    "'''\n",
    "#Muestro los indexes usados:\n",
    "for bmuIndex in listabmu: \n",
    "    if bmuIndex[0] != -1 and bmuIndex[1] != -1:\n",
    "        print(bmuIndex + 1, \" <-traducido- [\",bmuIndex[0],\",\",bmuIndex[1],\"]\")\n",
    "'''\n",
    "#pinto mapa antiguo y nuevo para comparar\n",
    "pintar_mapa(matriz_pesos_orig)\n",
>>>>>>> Marcos
    "pintar_mapa(matriz_pesos)"
   ]
  },
  {
   "cell_type": "markdown",
   "metadata": {},
   "source": [
    "## SOM Clasificación"
   ]
  },
  {
   "cell_type": "code",
<<<<<<< HEAD
   "execution_count": 98,
=======
   "execution_count": 400,
>>>>>>> Marcos
   "metadata": {
    "collapsed": true
   },
   "outputs": [
    {
     "name": "stdout",
     "output_type": "stream",
     "text": [
<<<<<<< HEAD
      "93\n"
     ]
=======
      "clase:  65\n"
     ]
    },
    {
     "data": {
      "text/plain": [
       "'\\nprint(\"Mapa activación: \\n\", Mapa_Activacion)\\nprint(\"Mapa clasificación: \\n\", Mapa_Clasificacion)\\nprint(\"Mapa distancias: \\n\", Mapa_Distancias)\\n'"
      ]
     },
     "execution_count": 400,
     "metadata": {},
     "output_type": "execute_result"
>>>>>>> Marcos
    }
   ],
   "source": [
    "# Clasifica los patrones de entrenamiento con la matriz de pesos recién entrenada\n",
    "\n",
    "def Clasificacion(colores , matriz_pesos):\n",
    "\n",
    "    Mapa_Clasificacion = np.zeros((lado_mapa,lado_mapa,valores_color))\n",
    "    Mapa_Activacion = np.zeros((lado_mapa,lado_mapa),dtype=int)\n",
    "    Mapa_Distancias = np.zeros((lado_mapa,lado_mapa))\n",
    "\n",
    "    clase = 0\n",
    "\n",
    "    for color in colores:\n",
<<<<<<< HEAD
    "        bmu , bmuIndex = calcular_bmu(color,matriz_pesos)\n",
=======
    "        bmu , bmuIndex = calcular_bmu(color,matriz_pesos,valores_color)\n",
>>>>>>> Marcos
    "        Mapa_Activacion[bmuIndex[0],bmuIndex[1]] += 1 # Cada vez que se activa una neurona (x,y de la ganadora ++)\n",
    "        #print(\"Neurona gandora: \", bmuIndex)\n",
    "        Mapa_Clasificacion[bmuIndex[0],bmuIndex[1]] = color # Se guarda el último color que ha activado la neurona\n",
    "        # La media de las distancias euclidieas de esa neurona\n",
    "        Mapa_Distancias[bmuIndex[0],bmuIndex[1]] = (Mapa_Distancias[bmuIndex[0],bmuIndex[1]] + np.linalg.norm(np.array(bmu) - np.array(color))) / 2 \n",
    "        \n",
    "    for x in range(len(Mapa_Activacion)):\n",
    "        for y in range(len(Mapa_Activacion[0])):\n",
    "            if Mapa_Activacion[x][y] > 0:\n",
    "                clase += 1\n",
    "\n",
<<<<<<< HEAD
    "    print('Numero de Clases: ', clase)\n",
    "    return Mapa_Activacion, Mapa_Clasificacion, Mapa_Distancias\n",
    "\n",
    "Mapa_Activacion, Mapa_Clasificacion, Mapa_Distancias = Clasificacion(datosT, matriz_pesos)\n",
    "\n"
=======
    "    print(\"clase: \",clase)\n",
    "    return Mapa_Activacion, Mapa_Clasificacion, Mapa_Distancias\n",
    "\n",
    "\n",
    "Mapa_Activacion, Mapa_Clasificacion, Mapa_Distancias = Clasificacion(np.transpose(datos), matriz_pesos)\n",
    "\n",
    "\"\"\"\n",
    "print(\"Mapa activación: \\n\", Mapa_Activacion)\n",
    "print(\"Mapa clasificación: \\n\", Mapa_Clasificacion)\n",
    "print(\"Mapa distancias: \\n\", Mapa_Distancias)\n",
    "\"\"\""
>>>>>>> Marcos
   ]
  },
  {
   "cell_type": "markdown",
   "metadata": {},
   "source": [
    "## SOM Prueba"
   ]
  },
  {
   "cell_type": "code",
<<<<<<< HEAD
   "execution_count": 144,
=======
   "execution_count": 401,
>>>>>>> Marcos
   "metadata": {
    "collapsed": true
   },
   "outputs": [
    {
     "name": "stdout",
     "output_type": "stream",
     "text": [
<<<<<<< HEAD
      "89\n",
      "Error De Cuantificacion:  0.07020748337674798\n",
      "Error Topologico:  0.11\n"
=======
      "clase:  59\n",
      "Topologico media:  0.13365196897459727\n",
      "0.1 300\n"
>>>>>>> Marcos
     ]
    }
   ],
   "source": [
    "# Clasifica nuevos patrones\n",
<<<<<<< HEAD
    "colores_clasficiar = np.random.randint(valor_min, valor_max, (valores_color, 100))\n",
    "colores_clasficiar = colores_clasficiar / 255\n",
    "colores_clasficiar = np.transpose(colores_clasficiar)\n",
    "Mapa_Activacion, Mapa_Clasificacion, Mapa_Distancias = Clasificacion(colores_clasficiar, matriz_pesos)\n",
    "\n",
    "# Funcion para calcular el error de cuantificacion dado un mapa de Distancias\n",
    "def Calcular_err_cuantificacion(Mapa_Distancias):\n",
    "    ListaDistancia = []\n",
    "    for x in range(len(Mapa_Distancias)):\n",
    "        for y in range(len(Mapa_Distancias[0])):\n",
    "            if Mapa_Distancias[x][y] != 0:\n",
    "             ListaDistancia.append(Mapa_Distancias[x][y])\n",
    "    Media = sum(ListaDistancia) / len(ListaDistancia)\n",
    "    return Media\n",
    "\n",
    "# Funcion que devuelve si la segunda bmu es adyacente o no dado un patron\n",
    "def calcular_err_topologico(patron_entrada, m_pesos):\n",
    "    rows = len(m_pesos)\n",
    "    columns = len(m_pesos[0])\n",
    "    # Asignamos que la ganadora 1 sea la primera neurona y la ganadora 2 la segunda por tener un valor con cual empezar\n",
    "    ganadora = np.linalg.norm(np.array(m_pesos[0][0]) - np.array(patron_entrada))\n",
    "    ganadora2 = np.linalg.norm(np.array(m_pesos[0][1]) - np.array(patron_entrada))\n",
    "    BmuIndex = np.stack((0,0))\n",
    "    Bmu2Index = np.stack((0,1))\n",
    "    # Mismo algoritmo que CalcularBMU pero en este se guarda la segunda BMU\n",
    "    for x in range(rows):\n",
    "        for y in range(columns):\n",
    "            dist = np.linalg.norm(np.array(m_pesos[x][y]) - np.array(patron_entrada))\n",
    "            if dist < ganadora:\n",
    "                ganadora = dist\n",
=======
    "\n",
    "colores_prueba = np.random.randint(valor_min, valor_max, (valores_color, num_colores))\n",
    "colores_prueba = colores_prueba / 255\n",
    "colores_prueba = np.transpose(colores_prueba)\n",
    "\n",
    "Mapa_Activacion, Mapa_Clasificacion, Mapa_Distancias = Clasificacion(colores_prueba, matriz_pesos)\n",
    "\n",
    "\n",
    "# Número de clases \n",
    "# Error de cuantificación (distancia por nodo & distancia media de la red)\n",
    "elementos = 0\n",
    "media = 0\n",
    "for e in Mapa_Distancias:\n",
    "    for en in e:\n",
    "        if en != 0:\n",
    "            media += en\n",
    "            elementos += 1\n",
    "media = media / elementos\n",
    "print(\"Topologico media: \", media)\n",
    "# Error topologico\n",
    "def calcular_err_topologico(patron_entrada, m_pesos, m):\n",
    "    rows = len(m_pesos)\n",
    "    columns = len(m_pesos[0])\n",
    "    vectorPesos =  []\n",
    "    ganadora = 2000\n",
    "    ganadora2 = 2000\n",
    "    BmuIndex = []\n",
    "    Bmu2Index = []\n",
    "    for x in range(rows):\n",
    "        for y in range(columns):\n",
    "            for z in range(m):\n",
    "                vectorPesos.append(m_pesos[x][y][z])\n",
    "            dist = np.linalg.norm(np.array(vectorPesos - patron_entrada))\n",
    "            if dist < ganadora:\n",
    "                ganadora = dist\n",
    "                #Bmu = vectorPesos\n",
>>>>>>> Marcos
    "                BmuIndex = np.stack((x,y))\n",
    "            else:\n",
    "                if dist < ganadora2:\n",
    "                    ganadora2 = dist\n",
    "                    Bmu2Index = np.stack((x,y))\n",
<<<<<<< HEAD
    "    # Devuelve 0 si es adyacente y 1 en el caso contrario\n",
    "    return (0 if np.linalg.norm(np.array(BmuIndex)-np.array(Bmu2Index)) < 2 else 1)\n",
    "\n",
    "# Aqui calculamos e imprimimos los errores\n",
    "print('Error De Cuantificacion: ', Calcular_err_cuantificacion(Mapa_Distancias))\n",
    "listaX = []\n",
    "\n",
    "# Dado un set de colores guarda en una lista los valores devueltos\n",
    "for color in colores_clasficiar:\n",
    "    listaX.append(calcular_err_topologico(color,matriz_pesos))\n",
    "# Calculamos la Media\n",
    "media = sum(listaX) / len(listaX)\n",
    "print('Error Topologico: ', media)\n"
=======
    "        vectorPesos = []\n",
    "    #(1 if np.linalg.norm(np.array(BmuIndex)-np.array(Bmu2Index)) < 2 else 0)\n",
    "    final = 2\n",
    "    if np.linalg.norm(np.array(BmuIndex)-np.array(Bmu2Index)) < 2:\n",
    "        final = 0\n",
    "    else:\n",
    "        final = 1\n",
    "    return (0 if np.linalg.norm(np.array(BmuIndex)-np.array(Bmu2Index)) < 2 else 1)\n",
    "error_topo = 0\n",
    "elem = 0\n",
    "for dato in datos:\n",
    "    for dat in dato:\n",
    "        error_topo += calcular_err_topologico(dat, matriz_pesos, valores_color)\n",
    "        elem += 1\n",
    "error_topo = error_topo/ elem\n",
    "print(error_topo,elem)\n"
>>>>>>> Marcos
   ]
  }
 ],
 "metadata": {
  "anaconda-cloud": {},
  "kernelspec": {
   "display_name": "Python 3",
   "language": "python",
   "name": "python3"
  },
  "language_info": {
   "codemirror_mode": {
    "name": "ipython",
    "version": 3
   },
   "file_extension": ".py",
   "mimetype": "text/x-python",
   "name": "python",
   "nbconvert_exporter": "python",
   "pygments_lexer": "ipython3",
<<<<<<< HEAD
   "version": "3.9.7"
=======
   "version": "3.8.5"
>>>>>>> Marcos
  }
 },
 "nbformat": 4,
 "nbformat_minor": 2
}
