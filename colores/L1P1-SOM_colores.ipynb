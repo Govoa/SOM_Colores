{
 "cells": [
  {
   "cell_type": "markdown",
   "metadata": {},
   "source": [
    "# Práctica 1 - Self-Organising Maps - COLORES\n",
    "## Preparación de entorno\n",
    "#### Importar librerías de código"
   ]
  },
  {
   "cell_type": "code",
   "execution_count": 428,
   "metadata": {
    "scrolled": true
   },
   "outputs": [],
   "source": [
    "# from __future__ import division\n",
    "\n",
    "import numpy as np\n",
    "from matplotlib import pyplot as plt\n",
    "from matplotlib import patches as patches\n",
    "from sklearn import preprocessing\n",
    "\n",
    "%matplotlib inline"
   ]
  },
  {
   "cell_type": "markdown",
   "metadata": {},
   "source": [
    "#### Dataset que se va a utilizar para el entrenamiento"
   ]
  },
  {
   "cell_type": "code",
   "execution_count": 429,
   "metadata": {
    "collapsed": true
   },
   "outputs": [],
   "source": [
    "# Código para obtener el Dataset que se va a usar en el entrenamiento\n",
    "valor_max = 256\n",
    "valor_min = 0\n",
    "valores_color = 3\n",
    "num_colores = 100\n",
    "datos = np.random.randint(valor_min, valor_max, (valores_color, num_colores))"
   ]
  },
  {
   "cell_type": "markdown",
   "metadata": {},
   "source": [
    "## SOM Setup\n",
    "#### Variables definidas por el alumno"
   ]
  },
  {
   "cell_type": "code",
   "execution_count": 430,
   "metadata": {
    "collapsed": true
   },
   "outputs": [],
   "source": [
    "# Inicializa tamaño del mapa de Kohonen, número de iteraciones y learning rate\n",
    "# Inicializa normalizar_datos dependiendo de si tienes que normalizar los datos o no\n",
    "lado_mapa = 7\n",
    "periodo = 1000\n",
    "learning_rate = 0.2\n",
    "normalizar_datos = True"
   ]
  },
  {
   "cell_type": "markdown",
   "metadata": {},
   "source": [
    "#### A partir de este punto solo hay cálculos. No se introducen más valores \"a mano\""
   ]
  },
  {
   "cell_type": "code",
   "execution_count": 431,
   "metadata": {
    "collapsed": true
   },
   "outputs": [],
   "source": [
    "# Establece el numero de entradas del mapa y el número de datos que se van a usar para entrenar. \n",
    "# Utiliza una función que obtenga automáticamente los valores a partir del Dataset.\n",
    "num_entradas = valores_color\n",
    "num_datos = num_colores\n",
    "\n",
    "# Calcula el vecindario inicial. Debe ser la mitad del lado del mapa de Kohonen\n",
    "vecindario_inicial = int(lado_mapa/2)\n",
    "\n",
    "# Normaliza los datos si fuese necesario dividiendo cada dato por el máximo en la matriz\n",
    "if normalizar_datos:\n",
    "    datos = datos / 255\n",
    "    \n",
    "# Crea una matriz de pesos con valores random entre 0 y 1. Usa la función random.random de la librería NumPy\n",
    "matriz_pesos = np.random.random((lado_mapa,lado_mapa,valores_color))"
   ]
  },
  {
   "cell_type": "markdown",
   "metadata": {},
   "source": [
    "#### Funciones para entrenar/clasificar"
   ]
  },
  {
   "cell_type": "code",
   "execution_count": 432,
   "metadata": {},
   "outputs": [],
   "source": [
    "# Funcion calcular BMU\n",
    "def calcular_bmu(patron_entrada, m_pesos):\n",
    "   # Obtenemos dimensiones de la matriz de pesos para los bucles\n",
    "   rows = len(m_pesos)\n",
    "   columns = len(m_pesos[0])\n",
    "   # Decimos que la ganadora al principio sea la primera neurona\n",
    "   ganadora = np.linalg.norm(np.array(m_pesos[0][0]) - np.array(patron_entrada))\n",
    "   Bmu = m_pesos[0][0]\n",
    "   BmuIndex = np.stack((0,0))\n",
    "   # Bucle que recorre toda las neuronas\n",
    "   for x in range(rows):\n",
    "      for y in range(columns):\n",
    "         # Obten la distancia euclidea entre la neurona y el patron\n",
    "         dist = np.linalg.norm(np.array(m_pesos[x][y]) - np.array(patron_entrada))\n",
    "         # Si la nueva distancia es menor que la ganadora asigna esta neurona como la nueva ganadora\n",
    "         if dist < ganadora:\n",
    "            ganadora = dist\n",
    "            Bmu = m_pesos[x][y]\n",
    "            BmuIndex = np.stack((x,y))\n",
    "   return Bmu , BmuIndex\n",
    "\n"
   ]
  },
  {
   "cell_type": "code",
   "execution_count": 433,
   "metadata": {
    "collapsed": true
   },
   "outputs": [],
   "source": [
    "# Función para calcular el descenso del coeficiente de aprendizaje (eta)\n",
    "\"\"\"\n",
    "   Calcula el Learning Rate (eta) que corresponde a la i-ésima presentación.\n",
    "   Entradas: (learning_rate_inicial, iteracion, período)\n",
    "   Salidas:  learning_rate para la iteración i\n",
    "\n",
    "\"\"\"\n",
    "def variacion_learning_rate(lr_inicial, i, n_iteraciones):\n",
    "   learning_rate = lr_inicial * (1 - i/n_iteraciones)\n",
    "   return learning_rate\n"
   ]
  },
  {
   "cell_type": "code",
   "execution_count": 434,
   "metadata": {
    "collapsed": true
   },
   "outputs": [],
   "source": [
    "# Función para calcular el descenso del vecindario (v)\n",
    "\"\"\"\n",
    "   Calcula el vecindario  (v) que corresponde a la i-ésima presentación.\n",
    "   Entradas: (vecindario_inicial, iteracion, período)\n",
    "   Salidas:  lvecindario para la iteración i\n",
    "\n",
    "\"\"\"\n",
    "def variacion_vecindario(vecindario_inicial, i, n_iteraciones):\n",
    "   vecindario = 1 + vecindario_inicial * (1 - i/n_iteraciones)\n",
    "   return vecindario\n",
    "   "
   ]
  },
  {
   "cell_type": "code",
   "execution_count": 435,
   "metadata": {
    "collapsed": true
   },
   "outputs": [],
   "source": [
    "# Función para calcular el descenso del coeficiente de aprendizaje (eta) en función de la distancia a la BMU\n",
    "\"\"\"\n",
    "   Calcula la amortiguación de eta en función de la distancia en el mapa entre una neurona y la BMU.\n",
    "   Entradas: (distancia_BMU, vecindario_actual)\n",
    "   Salidas:  amortiguación para la iteración\n",
    "\n",
    "\"\"\"\n",
    "def decay(distancia_BMU, vecindario_actual):\n",
    "    return np.exp(-distancia_BMU**2 / (2*vecindario_actual**2))"
   ]
  },
  {
   "cell_type": "code",
   "execution_count": 436,
   "metadata": {},
   "outputs": [],
   "source": [
    "#Funcion Ajuste de matriz de pesos\n",
    "def ajustarPesos(IndexN , color , learning_rate , matriz_pesos , vecindario):\n",
    "    # Formula para obtener los pesos nuevos de la BMU\n",
    "    matriz_pesos[IndexN[0]][IndexN[1]] += (learning_rate * (color - matriz_pesos[IndexN[0]][IndexN[1]]))\n",
    "    # Obtenemos las dimensiones para el bucle\n",
    "    rows = len(matriz_pesos)\n",
    "    cols = len(matriz_pesos[0])\n",
    "    # Bucle que recorre todas la neuronas incluida la BMU\n",
    "    for x in range(rows):\n",
    "        for y in range(cols):\n",
    "            vectorNeurona = [x,y] #Guardamos el indice como un vector\n",
    "            vectorBMU = [IndexN[0],IndexN[1]] #Guardamos el indice como un vecto\n",
    "            #Calculamos la discacia euclidea entre ambos vectores para determinar como de lejos estan los indices\n",
    "            dist_euc = np.linalg.norm(np.array(vectorBMU) - np.array(vectorNeurona)) \n",
    "            # Si la distancia es menor o igual que el vecindario y no es 0 (caso de la BMU) entonces sabemos que es vecina de BMU\n",
    "            if(dist_euc <= vecindario and dist_euc != 0):\n",
    "              # Dime segun la distancia entre la neuroma vecina y la bmu cuanto es el decay del learning rate\n",
    "              dist_decay = decay(dist_euc,vecindario)\n",
    "              # Aplico formula de ajuste de pesos a la neurona vecina segun los datos obtenidos\n",
    "              matriz_pesos[x][y] += (learning_rate * dist_decay * (color -  matriz_pesos[x][y]))  \n",
    "            \n",
    "    return matriz_pesos\n"
   ]
  },
  {
   "cell_type": "markdown",
   "metadata": {},
   "source": [
    "#### Funciones para dibujar la salida de la red"
   ]
  },
  {
   "cell_type": "code",
   "execution_count": 437,
   "metadata": {
    "collapsed": true
   },
   "outputs": [],
   "source": [
    "# Función para pintar una matriz de valores como colores RGB\n",
    "def pintar_mapa(matriz_valores):\n",
    "    fig = plt.figure()\n",
    "    \n",
    "    # Establece ejes\n",
    "    ax = fig.add_subplot(111, aspect='equal')\n",
    "    ax.set_xlim((0, matriz_pesos.shape[0]+1))\n",
    "    ax.set_ylim((0, matriz_pesos.shape[1]+1))\n",
    "    ax.set_title('Self-Organising Map después de %d iteraciones' % periodo)\n",
    "\n",
    "    # Dibuja los rectángulos de color RGB\n",
    "    for x in range(1, matriz_valores.shape[0] + 1):\n",
    "        for y in range(1, matriz_valores.shape[1] + 1):\n",
    "            ax.add_patch(patches.Rectangle((x-0.5, y-0.5), 1, 1,\n",
    "                         facecolor=matriz_valores[x-1,y-1,:],\n",
    "                         edgecolor='none'))\n",
    "    plt.show()"
   ]
  },
  {
   "cell_type": "markdown",
   "metadata": {},
   "source": [
    "## SOM Entrenamiento"
   ]
  },
  {
   "cell_type": "code",
   "execution_count": 438,
   "metadata": {
    "collapsed": true
   },
   "outputs": [
    {
     "data": {
      "image/png": "[encoded data removed]",
      "text/plain": [
       "<Figure size 432x288 with 1 Axes>"
      ]
     },
     "metadata": {
      "needs_background": "light"
     },
     "output_type": "display_data"
    },
    {
     "name": "stdout",
     "output_type": "stream",
     "text": [
      "Iteracion Nº:  1000\r"
     ]
    },
    {
     "data": {
      "image/png": "[encoded data removed]",
      "text/plain": [
       "<Figure size 432x288 with 1 Axes>"
      ]
     },
     "metadata": {
      "needs_background": "light"
     },
     "output_type": "display_data"
    }
   ],
   "source": [
    "# Entrena la red con el dataset de entrenamiento\n",
    "\n",
    "# Pintamos mapa de pesos inicial\n",
    "pintar_mapa(matriz_pesos)\n",
    "# Reshape de los datos para que se pueda operar con la matriz de pesos\n",
    "datosT = np.transpose(datos)\n",
    "# Guardamos las variables iniciales para no modificarlas en las iteraciones de entrenamiento\n",
    "vecindario = vecindario_inicial\n",
    "learning_rate_ajustado = learning_rate\n",
    "for x in range(periodo):\n",
    "    # Imprime la iteracion actual cada 100 iteraciones\n",
    "    if(x % 100 == 0 and x != 0):\n",
    "        print('Iteracion Nº: ',x,end=\"\\r\")\n",
    "    #Obtenemos un indice aleatorio de nuestro set de colores\n",
    "    numAleatorio = np.random.randint(0, num_colores)\n",
    "    color = datosT[numAleatorio] \n",
    "    #Pasamos el color aleatorio a calcular bmu para que nos devuelva la neurona mas proxima al patron\n",
    "    Bmu , BmuIndex = calcular_bmu(color,matriz_pesos)\n",
    "    #Ajustamos la matrix de pesos segun los datos obtenidos\n",
    "    matriz_pesos = ajustarPesos(BmuIndex , color , learning_rate_ajustado , matriz_pesos , vecindario)\n",
    "    #Una vez ajustada la matriz de pesos modificamos el learning rate para la siguiente iteracion\n",
    "    learning_rate_ajustado = variacion_learning_rate(learning_rate, x , periodo)\n",
    "    #Una vez ajustada la matriz de pesos modificamos el vecindario para la siguiente iteracion\n",
    "    vecindario = variacion_vecindario(vecindario_inicial , x , periodo)\n",
    "\n",
    "#Pintamos mapa de pesos final\n",
    "print('Iteracion Nº: ',x + 1,end=\"\\r\")\n",
    "pintar_mapa(matriz_pesos)"
   ]
  },
  {
   "cell_type": "markdown",
   "metadata": {},
   "source": [
    "## SOM Clasificación"
   ]
  },
  {
   "cell_type": "code",
   "execution_count": 439,
   "metadata": {
    "collapsed": true
   },
   "outputs": [
    {
     "name": "stdout",
     "output_type": "stream",
     "text": [
      "Número de clases:  44\n"
     ]
    },
    {
     "data": {
      "text/plain": [
       "'\\nprint(\"Mapa activación: \\n\", Mapa_Activacion)\\nprint(\"Mapa clasificación: \\n\", Mapa_Clasificacion)\\nprint(\"Mapa distancias: \\n\", Mapa_Distancias)\\n'"
      ]
     },
     "execution_count": 439,
     "metadata": {},
     "output_type": "execute_result"
    }
   ],
   "source": [
    "# Clasifica los patrones de entrenamiento con la matriz de pesos recién entrenada\n",
    "\n",
    "def Clasificacion(colores , matriz_pesos):\n",
    "\n",
    "    Mapa_Clasificacion = np.zeros((lado_mapa,lado_mapa,valores_color))\n",
    "    Mapa_Activacion = np.zeros((lado_mapa,lado_mapa),dtype=int)\n",
    "    Mapa_Distancias = np.zeros((lado_mapa,lado_mapa))\n",
    "\n",
    "    clase = 0\n",
    "\n",
    "    for color in colores:\n",
    "        bmu , bmuIndex = calcular_bmu(color,matriz_pesos)\n",
    "        Mapa_Activacion[bmuIndex[0],bmuIndex[1]] += 1 # Cada vez que se activa una neurona (x,y de la ganadora ++)\n",
    "        # print(\"Neurona gandora: \", bmuIndex)\n",
    "        Mapa_Clasificacion[bmuIndex[0],bmuIndex[1]] = color # Se guarda el último color que ha activado la neurona\n",
    "        # La media de las distancias euclidieas de esa neurona\n",
    "        Mapa_Distancias[bmuIndex[0],bmuIndex[1]] = (Mapa_Distancias[bmuIndex[0],bmuIndex[1]] + np.linalg.norm(np.array(bmu) - np.array(color))) / 2 \n",
    "        \n",
    "    for x in range(len(Mapa_Activacion)):\n",
    "        for y in range(len(Mapa_Activacion[0])):\n",
    "            if Mapa_Activacion[x][y] > 0:\n",
    "                clase += 1\n",
    "\n",
    "    print(\"Número de clases: \",clase)\n",
    "    return Mapa_Activacion, Mapa_Clasificacion, Mapa_Distancias\n",
    "\n",
    "Mapa_Activacion, Mapa_Clasificacion, Mapa_Distancias = Clasificacion(np.transpose(datos), matriz_pesos)\n",
    "\n",
    "\"\"\"\n",
    "print(\"Mapa activación: \\n\", Mapa_Activacion)\n",
    "print(\"Mapa clasificación: \\n\", Mapa_Clasificacion)\n",
    "print(\"Mapa distancias: \\n\", Mapa_Distancias)\n",
    "\"\"\"\n"
   ]
  },
  {
   "cell_type": "markdown",
   "metadata": {},
   "source": [
    "## SOM Prueba"
   ]
  },
  {
   "cell_type": "code",
   "execution_count": 440,
   "metadata": {},
   "outputs": [],
   "source": [
    "# FUnción aux para error topológicos\n",
    "def calcular_dosbmu(patron_entrada, m_pesos):\n",
    "   rows = len(m_pesos)\n",
    "   columns = len(m_pesos[0])\n",
    "   valores_bmu_pos = {}\n",
    "   for x in range(rows):\n",
    "      for y in range(columns):\n",
    "         dist = np.linalg.norm(np.array(m_pesos[x][y]) - np.array(patron_entrada))\n",
    "         valores_bmu_pos[dist] = [x,y]\n",
    "   items = valores_bmu_pos.items()\n",
    "   valores_ordenados = sorted(items)\n",
    "   win1 = valores_ordenados[0][1]\n",
    "   win2 = valores_ordenados[1][1]\n",
    "   return (0 if np.linalg.norm(np.array(win1)-np.array(win2)) < 2 else 1)"
   ]
  },
  {
   "cell_type": "code",
   "execution_count": 441,
   "metadata": {
    "collapsed": true
   },
   "outputs": [
    {
     "name": "stdout",
     "output_type": "stream",
     "text": [
      "Número de clases:  41\n",
      "Error cuantificable:  0.1378067750316897\n",
      "Error topológico:  0.6666666666666666\n"
     ]
    }
   ],
   "source": [
    "# Clasifica nuevos patrones\n",
    "\n",
    "colores_prueba = np.random.randint(valor_min, valor_max, (valores_color, num_colores))\n",
    "colores_prueba = colores_prueba / 255\n",
    "colores_prueba = np.transpose(colores_prueba)\n",
    "\n",
    "Mapa_Activacion, Mapa_Clasificacion, Mapa_Distancias = Clasificacion(colores_prueba, matriz_pesos)\n",
    "\n",
    "# Número de clases\n",
    "# Error cuantificable\n",
    "lista_medias = []\n",
    "for x in range(len(Mapa_Distancias)):\n",
    "    for y in range(len(Mapa_Distancias)):\n",
    "        if(Mapa_Distancias[x,y] != 0):\n",
    "            lista_medias.append(Mapa_Distancias[x,y])\n",
    "media = sum(lista_medias) / len(lista_medias)\n",
    "print(\"Error cuantificable: \",media)\n",
    "# Error topológico\n",
    "error_topo = 0\n",
    "for color in np.transpose(datos):\n",
    "    error_topo += calcular_dosbmu(color,matriz_pesos)\n",
    "error_topo = error_topo / len(datos)\n",
    "print(\"Error topológico: \",error_topo)"
   ]
  }
 ],
 "metadata": {
  "anaconda-cloud": {},
  "kernelspec": {
   "display_name": "Python 3",
   "language": "python",
   "name": "python3"
  },
  "language_info": {
   "codemirror_mode": {
    "name": "ipython",
    "version": 3
   },
   "file_extension": ".py",
   "mimetype": "text/x-python",
   "name": "python",
   "nbconvert_exporter": "python",
   "pygments_lexer": "ipython3",
   "version": "3.9.7"
  }
 },
 "nbformat": 4,
 "nbformat_minor": 2
}
