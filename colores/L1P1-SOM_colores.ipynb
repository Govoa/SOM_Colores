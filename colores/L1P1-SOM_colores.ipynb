{
 "cells": [
  {
   "cell_type": "markdown",
   "metadata": {},
   "source": [
    "# Práctica 1 - Self-Organising Maps - COLORES\n",
    "## Preparación de entorno\n",
    "#### Importar librerías de código"
   ]
  },
  {
   "cell_type": "code",
   "execution_count": 16,
   "metadata": {
    "scrolled": true
   },
   "outputs": [],
   "source": [
    "# from __future__ import division\n",
    "\n",
    "import numpy as np\n",
    "from matplotlib import pyplot as plt\n",
    "from matplotlib import patches as patches\n",
    "from sklearn import preprocessing\n",
    "\n",
    "%matplotlib inline"
   ]
  },
  {
   "cell_type": "markdown",
   "metadata": {},
   "source": [
    "#### Dataset que se va a utilizar para el entrenamiento"
   ]
  },
  {
   "cell_type": "code",
   "execution_count": 17,
   "metadata": {
    "collapsed": true
   },
   "outputs": [],
   "source": [
    "# Código para obtener el Dataset que se va a usar en el entrenamiento\n",
    "valor_max = 256\n",
    "valor_min = 0\n",
    "valores_color = 3\n",
    "num_colores = 100\n",
    "datos = np.random.randint(valor_min, valor_max, (valores_color, num_colores))"
   ]
  },
  {
   "cell_type": "markdown",
   "metadata": {},
   "source": [
    "## SOM Setup\n",
    "#### Variables definidas por el alumno"
   ]
  },
  {
   "cell_type": "code",
   "execution_count": 18,
   "metadata": {
    "collapsed": true
   },
   "outputs": [],
   "source": [
    "# Inicializa tamaño del mapa de Kohonen, número de iteraciones y learning rate\n",
    "# Inicializa normalizar_datos dependiendo de si tienes que normalizar los datos o no\n",
    "lado_mapa = 500\n",
    "periodo = 10000\n",
    "learning_rate = 0.2\n",
    "normalizar_datos = True"
   ]
  },
  {
   "cell_type": "markdown",
   "metadata": {},
   "source": [
    "#### A partir de este punto solo hay cálculos. No se introducen más valores \"a mano\""
   ]
  },
  {
   "cell_type": "code",
   "execution_count": 19,
   "metadata": {
    "collapsed": true
   },
   "outputs": [],
   "source": [
    "# Establece el numero de entradas del mapa y el número de datos que se van a usar para entrenar. \n",
    "# Utiliza una función que obtenga automáticamente los valores a partir del Dataset.\n",
    "num_entradas = valores_color\n",
    "num_datos = num_colores\n",
    "\n",
    "# Calcula el vecindario inicial. Debe ser la mitad del lado del mapa de Kohonen\n",
    "vecindario_inicial = int(lado_mapa/2)\n",
    "\n",
    "# Normaliza los datos si fuese necesario dividiendo cada dato por el máximo en la matriz\n",
    "if normalizar_datos:\n",
    "    datos = datos / 255\n",
    "    \n",
    "# Crea una matriz de pesos con valores random entre 0 y 1. Usa la función random.random de la librería NumPy\n",
    "matriz_pesos = np.random.random((lado_mapa,lado_mapa,valores_color))"
   ]
  },
  {
   "cell_type": "markdown",
   "metadata": {},
   "source": [
    "#### Funciones para entrenar/clasificar"
   ]
  },
  {
   "cell_type": "code",
   "execution_count": 20,
   "metadata": {
    "collapsed": true
   },
   "outputs": [],
   "source": [
    "# Función para encontrar la BMU\n",
    "\"\"\"\n",
    "   Encuentra la BMU para un patrón de entrada.\n",
    "   Entradas: (patrón_de_entrada, matriz_de_pesos, número_de_entradas)\n",
    "   Salidas:  (bmu, bmu_idx) tupla donde\n",
    "               bmu: vector de pesos de la neurona ganadora\n",
    "               bum_idx: coordenadas de la neurona ganadora\n",
    "\"\"\"\n",
    "def calcular_bmu(patron_entrada, m_pesos, m):\n",
    "   rows = len(m_pesos)\n",
    "   columns = len(m_pesos[0])\n",
    "   vectorPesos =  []\n",
    "   ganadora = 2000\n",
    "   for x in range(rows):\n",
    "      for y in range(columns):\n",
    "         for z in range(m):\n",
    "            vectorPesos.append(m_pesos[x][y][z])\n",
    "         dist = np.linalg.norm(np.array(vectorPesos) - np.array(patron_entrada))\n",
    "         if dist < ganadora:\n",
    "            ganadora = dist\n",
    "            Bmu = vectorPesos\n",
    "            BmuIndex = np.stack((x,y))\n",
    "         vectorPesos = []\n",
    "   return Bmu , BmuIndex"
   ]
  },
  {
   "cell_type": "code",
   "execution_count": 21,
   "metadata": {
    "collapsed": true
   },
   "outputs": [],
   "source": [
    "# Función para calcular el descenso del coeficiente de aprendizaje (eta)\n",
    "\"\"\"\n",
    "   Calcula el Learning Rate (eta) que corresponde a la i-ésima presentación.\n",
    "   Entradas: (learning_rate_inicial, iteracion, período)\n",
    "   Salidas:  learning_rate para la iteración i\n",
    "\n",
    "\"\"\"\n",
    "def variacion_learning_rate(lr_inicial, i, n_iteraciones):\n",
    "   learning_rate = lr_inicial * (1 - i/n_iteraciones)\n",
    "   return learning_rate\n"
   ]
  },
  {
   "cell_type": "code",
   "execution_count": 22,
   "metadata": {
    "collapsed": true
   },
   "outputs": [],
   "source": [
    "# Función para calcular el descenso del vecindario (v)\n",
    "\"\"\"\n",
    "   Calcula el vecindario  (v) que corresponde a la i-ésima presentación.\n",
    "   Entradas: (vecindario_inicial, iteracion, período)\n",
    "   Salidas:  lvecindario para la iteración i\n",
    "\n",
    "\"\"\"\n",
    "def variacion_vecindario(vecindario_inicial, i, n_iteraciones):\n",
    "   vecindario = 1 + vecindario_inicial * (1 - i/n_iteraciones)\n",
    "   return vecindario\n",
    "   "
   ]
  },
  {
   "cell_type": "code",
   "execution_count": 23,
   "metadata": {
    "collapsed": true
   },
   "outputs": [],
   "source": [
    "# Función para calcular el descenso del coeficiente de aprendizaje (eta) en función de la distancia a la BMU\n",
    "\"\"\"\n",
    "   Calcula la amortiguación de eta en función de la distancia en el mapa entre una neurona y la BMU.\n",
    "   Entradas: (distancia_BMU, vecindario_actual)\n",
    "   Salidas:  amortiguación para la iteración\n",
    "\n",
    "\"\"\"\n",
    "def decay(distancia_BMU, vecindario_actual):\n",
    "    return np.exp(-distancia_BMU**2 / (2*vecindario_actual**2))"
   ]
  },
  {
   "cell_type": "code",
   "execution_count": 24,
   "metadata": {},
   "outputs": [],
   "source": [
    "#Funcion Ajuste de matriz de pesos\n",
    "def ajustarPesos(IndexN , color , learning_rate , matriz_pesos , vecindario):\n",
    "    matriz_pesos[IndexN[0]][IndexN[1]] += (learning_rate * (color - matriz_pesos[IndexN[0]][IndexN[1]]))\n",
    "    rows = len(matriz_pesos)\n",
    "    cols = len(matriz_pesos[0])\n",
    "    for x in range(rows):\n",
    "        for y in range(cols):\n",
    "            vectorNeurona = [x,y]\n",
    "            vectorBMU = [IndexN[0],IndexN[1]]\n",
    "            dist_euc = np.linalg.norm(np.array(vectorBMU) - np.array(vectorNeurona))\n",
    "            if(dist_euc <= vecindario and dist_euc != 0):\n",
    "              dist_decay = decay(dist_euc,vecindario)\n",
    "              matriz_pesos[x][y] += (learning_rate * dist_decay * (color -  matriz_pesos[x][y]))  \n",
    "            \n",
    "    return matriz_pesos\n"
   ]
  },
  {
   "cell_type": "markdown",
   "metadata": {},
   "source": [
    "#### Funciones para dibujar la salida de la red"
   ]
  },
  {
   "cell_type": "code",
   "execution_count": 25,
   "metadata": {
    "collapsed": true
   },
   "outputs": [],
   "source": [
    "# Función para pintar una matriz de valores como colores RGB\n",
    "def pintar_mapa(matriz_valores):\n",
    "    fig = plt.figure()\n",
    "    \n",
    "    # Establece ejes\n",
    "    ax = fig.add_subplot(111, aspect='equal')\n",
    "    ax.set_xlim((0, matriz_pesos.shape[0]+1))\n",
    "    ax.set_ylim((0, matriz_pesos.shape[1]+1))\n",
    "    ax.set_title('Self-Organising Map después de %d iteraciones' % periodo)\n",
    "\n",
    "    # Dibuja los rectángulos de color RGB\n",
    "    for x in range(1, matriz_valores.shape[0] + 1):\n",
    "        for y in range(1, matriz_valores.shape[1] + 1):\n",
    "            ax.add_patch(patches.Rectangle((x-0.5, y-0.5), 1, 1,\n",
    "                         facecolor=matriz_valores[x-1,y-1,:],\n",
    "                         edgecolor='none'))\n",
    "    plt.show()"
   ]
  },
  {
   "cell_type": "code",
   "execution_count": 26,
   "metadata": {},
   "outputs": [],
   "source": [
    "def shuffle():\n",
    "    rng = np.random.default_rng()\n",
    "    datos = datos = np.random.randint(valor_min, valor_max, (valores_color, num_colores))\n",
    "    datos = datos/255\n",
    "    datos = np.transpose(datos)\n",
    "    datos = rng.permuted(datos, out=datos) # MOvemos los datos pa que no se acostumbre\n",
    "    return datos"
   ]
  },
  {
   "cell_type": "markdown",
   "metadata": {},
   "source": [
    "## SOM Entrenamiento"
   ]
  },
  {
   "cell_type": "code",
   "execution_count": 27,
   "metadata": {
    "collapsed": true
   },
   "outputs": [
    {
     "data": {
      "image/png": "[encoded data removed]",
      "text/plain": [
       "<Figure size 432x288 with 1 Axes>"
      ]
     },
     "metadata": {
      "needs_background": "light"
     },
     "output_type": "display_data"
    },
    {
     "data": {
      "image/png": "[encoded data removed]",
      "text/plain": [
       "<Figure size 432x288 with 1 Axes>"
      ]
     },
     "metadata": {
      "needs_background": "light"
     },
     "output_type": "display_data"
    }
   ],
   "source": [
    "# Entrena la red con el dataset de entrenamiento\n",
    "pintar_mapa(matriz_pesos)\n",
    "datosT = np.transpose(datos)\n",
    "vecindario = vecindario_inicial\n",
    "learning_rate_ajustado = learning_rate\n",
    "for x in range(periodo):\n",
    "    #if(x % 100 == 0):\n",
    "        #print(x)\n",
    "    numAleatorio = np.random.randint(0, num_colores)\n",
    "    color = datosT[numAleatorio]\n",
    "    Bmu , BmuIndex = calcular_bmu(color,matriz_pesos,valores_color)\n",
    "    matriz_pesos = ajustarPesos(BmuIndex , color , learning_rate_ajustado , matriz_pesos , vecindario)\n",
    "    learning_rate_ajustado = variacion_learning_rate(learning_rate, x , periodo)\n",
    "    vecindario = variacion_vecindario(vecindario_inicial , x , periodo)\n",
    "pintar_mapa(matriz_pesos)\n",
    "\n",
    "    \n",
    "\n",
    "    \n",
    "\n"
   ]
  },
  {
   "cell_type": "markdown",
   "metadata": {},
   "source": [
    "## SOM Clasificación"
   ]
  },
  {
   "cell_type": "code",
   "execution_count": 28,
   "metadata": {
    "collapsed": true
   },
   "outputs": [],
   "source": [
    "# Clasifica los patrones de entrenamiento con la matriz de pesos recién entrenada\n",
    "\n"
   ]
  },
  {
   "cell_type": "markdown",
   "metadata": {},
   "source": [
    "## SOM Prueba"
   ]
  },
  {
   "cell_type": "code",
   "execution_count": 29,
   "metadata": {
    "collapsed": true
   },
   "outputs": [],
   "source": [
    "# Clasifica nuevos patrones\n",
    "\n"
   ]
  }
 ],
 "metadata": {
  "anaconda-cloud": {},
  "kernelspec": {
   "display_name": "Python 3",
   "language": "python",
   "name": "python3"
  },
  "language_info": {
   "codemirror_mode": {
    "name": "ipython",
    "version": 3
   },
   "file_extension": ".py",
   "mimetype": "text/x-python",
   "name": "python",
   "nbconvert_exporter": "python",
   "pygments_lexer": "ipython3",
   "version": "3.9.7"
  }
 },
 "nbformat": 4,
 "nbformat_minor": 2
}
