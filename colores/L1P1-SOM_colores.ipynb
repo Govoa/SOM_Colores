{
 "cells": [
  {
   "cell_type": "markdown",
   "metadata": {},
   "source": [
    "# Práctica 1 - Self-Organising Maps - COLORES\n",
    "## Preparación de entorno\n",
    "#### Importar librerías de código"
   ]
  },
  {
   "cell_type": "code",
   "execution_count": 195,
   "metadata": {
    "scrolled": true
   },
   "outputs": [],
   "source": [
    "# from __future__ import division\n",
    "\n",
    "import numpy as np\n",
    "from matplotlib import pyplot as plt\n",
    "from matplotlib import patches as patches\n",
    "import math\n",
    "\n",
    "%matplotlib inline"
   ]
  },
  {
   "cell_type": "markdown",
   "metadata": {},
   "source": [
    "#### Dataset que se va a utilizar para el entrenamiento"
   ]
  },
  {
   "cell_type": "code",
   "execution_count": 196,
   "metadata": {
    "collapsed": true
   },
   "outputs": [],
   "source": [
    "# Código para obtener el Dataset que se va a usar en el entrenamiento\n",
    "valor_max = 256\n",
    "valor_min = 0\n",
    "valores_color = 3\n",
    "num_colores = 100\n",
    "datos = np.random.randint(valor_min, valor_max, (valores_color, num_colores))"
   ]
  },
  {
   "cell_type": "markdown",
   "metadata": {},
   "source": [
    "## SOM Setup\n",
    "#### Variables definidas por el alumno"
   ]
  },
  {
   "cell_type": "code",
   "execution_count": 197,
   "metadata": {
    "collapsed": true
   },
   "outputs": [],
   "source": [
    "# Inicializa tamaño del mapa de Kohonen, número de iteraciones y learning rate\n",
    "# Inicializa normalizar_datos dependiendo de si tienes que normalizar los datos o no\n",
    "lado_mapa = 20 # 7\n",
    "periodo = 300\n",
    "learning_rate = 0.1\n",
    "normalizar_datos = True"
   ]
  },
  {
   "cell_type": "markdown",
   "metadata": {},
   "source": [
    "#### A partir de este punto solo hay cálculos. No se introducen más valores \"a mano\""
   ]
  },
  {
   "cell_type": "code",
   "execution_count": 198,
   "metadata": {
    "collapsed": true
   },
   "outputs": [],
   "source": [
    "# Establece el numero de entradas del mapa y el número de datos que se van a usar para entrenar. \n",
    "# Utiliza una función que obtenga automáticamente los valores a partir del Dataset.\n",
    "num_entradas = valores_color\n",
    "num_datos = num_colores\n",
    "\n",
    "# Calcula el vecindario inicial. Debe ser la mitad del lado del mapa de Kohonen\n",
    "vecindario = int(lado_mapa/2)\n",
    "\n",
    "# Normaliza los datos si fuese necesario dividiendo cada dato por el máximo en la matriz\n",
    "if normalizar_datos:\n",
    "    #datos = preprocessing.normalize(datos)\n",
    "    datos = datos / 255\n",
    "# Crea una matriz de pesos con valores random entre 0 y 1. Usa la función random.random de la librería NumPy\n",
    "matriz_pesos = np.random.random((lado_mapa,lado_mapa,valores_color))"
   ]
  },
  {
   "cell_type": "markdown",
   "metadata": {},
   "source": [
    "#### Funciones para entrenar/clasificar"
   ]
  },
  {
   "cell_type": "code",
   "execution_count": 199,
   "metadata": {
    "collapsed": true
   },
   "outputs": [],
   "source": [
    "# Función para encontrar la BMU\n",
    "\"\"\"\n",
    "   Encuentra la BMU para un patrón de entrada.\n",
    "   Entradas: (patrón_de_entrada, matriz_de_pesos, número_de_entradas)\n",
    "   Salidas:  (bmu, bmu_idx) tupla donde\n",
    "               bmu: vector de pesos de la neurona ganadora\n",
    "               bum_idx: coordenadas de la neurona ganadora\n",
    "\"\"\"\n",
    "def calcular_bmu(patron_entrada, m_pesos, m):\n",
    "   rows = len(m_pesos)\n",
    "   columns = len(m_pesos[0])\n",
    "   vectorPesos =  []\n",
    "   ganadora = 2000\n",
    "   for x in range(rows):\n",
    "      for y in range(columns):\n",
    "         for z in range(m):\n",
    "            vectorPesos.append(m_pesos[x][y][z])\n",
    "         dist = np.linalg.norm(np.array(vectorPesos - patron_entrada))\n",
    "         if dist < ganadora:\n",
    "            ganadora = dist\n",
    "            Bmu = vectorPesos\n",
    "            BmuIndex = np.stack((x,y))\n",
    "         vectorPesos = []\n",
    "   return Bmu , BmuIndex"
   ]
  },
  {
   "cell_type": "code",
   "execution_count": 200,
   "metadata": {
    "collapsed": true
   },
   "outputs": [],
   "source": [
    "# Función para calcular el descenso del coeficiente de aprendizaje (eta)\n",
    "\"\"\"\n",
    "   Calcula el Learning Rate (eta) que corresponde a la i-ésima presentación.\n",
    "   Entradas: (learning_rate_inicial, iteracion, período)\n",
    "   Salidas:  learning_rate para la iteración i\n",
    "\n",
    "\"\"\"\n",
    "def variacion_learning_rate(lr_inicial, i, n_iteraciones):\n",
    "   learning_rate = lr_inicial * (1 - i/n_iteraciones)\n",
    "   return learning_rate\n"
   ]
  },
  {
   "cell_type": "code",
   "execution_count": 201,
   "metadata": {
    "collapsed": true
   },
   "outputs": [],
   "source": [
    "# Función para calcular el descenso del vecindario (v)\n",
    "\"\"\"\n",
    "   Calcula el vecindario  (v) que corresponde a la i-ésima presentación.\n",
    "   Entradas: (vecindario_inicial, iteracion, período)\n",
    "   Salidas:  lvecindario para la iteración i\n",
    "\n",
    "\"\"\"\n",
    "def variacion_vecindario(vecindario_inicial, i, n_iteraciones):\n",
    "   vecindario = 1 + vecindario_inicial * (1 - i/n_iteraciones)\n",
    "   return vecindario\n",
    "   "
   ]
  },
  {
   "cell_type": "code",
   "execution_count": 202,
   "metadata": {
    "collapsed": true
   },
   "outputs": [],
   "source": [
    "# Función para calcular el descenso del coeficiente de aprendizaje (eta) en función de la distancia a la BMU\n",
    "\"\"\"\n",
    "   Calcula la amortiguación de eta en función de la distancia en el mapa entre una neurona y la BMU.\n",
    "   Entradas: (distancia_BMU, vecindario_actual)\n",
    "   Salidas:  amortiguación para la iteración\n",
    "\n",
    "\"\"\"\n",
    "def decay(distancia_BMU, vecindario_actual):\n",
    "    return np.exp(-distancia_BMU**2 / (2*vecindario_actual**2))"
   ]
  },
  {
   "cell_type": "code",
   "execution_count": 203,
   "metadata": {},
   "outputs": [
    {
     "data": {
      "text/plain": [
       "'\\nelemento = []\\nelemento.append(np.random.randint(0,7))\\nelemento.append(np.random.randint(0,7))\\nprint(elemento)\\najustarPesos(elemento)\\n'"
      ]
     },
     "execution_count": 203,
     "metadata": {},
     "output_type": "execute_result"
    }
   ],
   "source": [
    "#Funcion Ajuste de matriz de pesos\n",
    "def ajustarPesos(IndexN, color , learning_rate , matriz_pesos, vecindario_actual):\n",
    "    #Cambiamos el peso de la neurona dada por el BMU\n",
    "    '''\n",
    "    matriz_pesos[IndexN[0]][IndexN[1]] = matriz_pesos[IndexN[0]][IndexN[1]] + (learning_rate * (color - matriz_pesos[IndexN[0]][IndexN[1]]))\n",
    "    '''\n",
    "    #ajustamos las neuronas adyacentes usando decay()\n",
    "    veci = vecindario_actual # variable vecindario\n",
    "    '''\n",
    "    print(\"vecindario: \",veci)\n",
    "    izq = False\n",
    "    der = False \n",
    "    arr = False \n",
    "    abj = False\n",
    "    #izquiera (-1, 0)\n",
    "    if (IndexN[0]-veci) >= 0: # el indice menos el numero de neuronas adyacente debe ser mayor o igual que 0\n",
    "        izq = True # se puede avanzar hacia la izquierda\n",
    "    #derecha (1,0)\n",
    "    if (IndexN[0]+veci) < lado_mapa: \n",
    "        der = True \n",
    "    #arriba (0,1)\n",
    "    if (IndexN[1]+veci) < lado_mapa: \n",
    "        arr = True \n",
    "    #abajo (0,-1)\n",
    "    if (IndexN[1]-veci) >= 0: \n",
    "        abj = True \n",
    "    # el bucle se ejecuta 2 veces la longitud del vecindario mas 1 (el bmu) si izquierda y derecha son true, es decir, no se sale de la matriz\n",
    "    # los if son: si uno de los dos booleanos son true escribimos 2xPosicionBMU+1 si no si alguno de los dos lo es escribimos 2xPosicionBMU y si ninguno lo es escribimos lo anterior -1 \n",
    "    for j in range((2*veci) + 1 if izq and der else (2*veci) if izq or der else (2*veci - 1)): \n",
    "        indX = IndexN[0] - veci + j if izq else IndexN[0] - veci + j + 1 # posicion de la neurona BMU - valor del vecindario - elemento iterativo (se suma 1 si está en un límite)\n",
    "        for k in range ((2*veci) + 1 if arr and abj else (2*veci) if arr or abj else (2*veci - 1)): # igual que el bucle superior ya que el objetivo es recorrer una matriz cuadrada\n",
    "            indY = IndexN[1] - veci + k if abj else IndexN[1] - veci + k + 1\n",
    "            if 0 <= indX < lado_mapa and 0 <= indY < lado_mapa: # necesario a pesar de tratar de calcularlo \"a mano\" ya que no se contaba con que se saliese de la matriz por mas de un valor\n",
    "                dist = np.linalg.norm(np.array(IndexN) - np.array([indX, indY]))\n",
    "                a = decay(dist, veci)\n",
    "                # aqui actualizamos la matriz de pesos en la neurona indX, indY\n",
    "                matriz_pesos[indX,indY] = matriz_pesos[indX,indY] + (learning_rate * a *(color - matriz_pesos[indX,indY]))\n",
    "                \n",
    "    return matriz_pesos\n",
    "    '''\n",
    "    #'''\n",
    "    # Situamos las nuevas coordenadas en la esquina izquierda del vecindario de las coordenadas dadas\n",
    "    indX = IndexN[0] - veci\n",
    "    indY = IndexN[1] - veci\n",
    "    # Se comprueba si estan o no fuera de la matriz de pesos\n",
    "    for i in range(int(2*veci + 1)):\n",
    "        for j in range(int(2*veci + 1)):\n",
    "            indX = int(IndexN[0] - veci + i )\n",
    "            indY = int(IndexN[1] - veci + j)\n",
    "            if 0 <= indX < lado_mapa and 0 <= indY < lado_mapa: # si esta dentro del rango de la matriz de pesos:\n",
    "                dist = np.linalg.norm(np.array(IndexN) - np.array([indX, indY]))\n",
    "                a = decay(dist, veci)\n",
    "                # aqui actualizamos la matriz de pesos en la neurona indX, indY\n",
    "                matriz_pesos[indX,indY] = matriz_pesos[indX,indY] + (learning_rate * a *(color - matriz_pesos[indX,indY]))\n",
    "\n",
    "    return matriz_pesos\n",
    "    #'''\n",
    "'''\n",
    "elemento = []\n",
    "elemento.append(np.random.randint(0,7))\n",
    "elemento.append(np.random.randint(0,7))\n",
    "print(elemento)\n",
    "ajustarPesos(elemento)\n",
    "'''"
   ]
  },
  {
   "cell_type": "markdown",
   "metadata": {},
   "source": [
    "#### Funciones para dibujar la salida de la red"
   ]
  },
  {
   "cell_type": "code",
   "execution_count": 204,
   "metadata": {
    "collapsed": true
   },
   "outputs": [],
   "source": [
    "# Función para pintar una matriz de valores como colores RGB\n",
    "def pintar_mapa(matriz_valores):\n",
    "    fig = plt.figure()\n",
    "    \n",
    "    # Establece ejes\n",
    "    ax = fig.add_subplot(111, aspect='equal')\n",
    "    ax.set_xlim((0, matriz_pesos.shape[0]+1))\n",
    "    ax.set_ylim((0, matriz_pesos.shape[1]+1))\n",
    "    ax.set_title('Self-Organising Map después de %d iteraciones' % periodo)\n",
    "\n",
    "    # Dibuja los rectángulos de color RGB\n",
    "    for x in range(1, matriz_valores.shape[0] + 1):\n",
    "        for y in range(1, matriz_valores.shape[1] + 1):\n",
    "            ax.add_patch(patches.Rectangle((x-0.5, y-0.5), 1, 1,\n",
    "                         facecolor=matriz_valores[x-1,y-1,:],\n",
    "                         edgecolor='none'))\n",
    "    plt.show()"
   ]
  },
  {
   "cell_type": "markdown",
   "metadata": {},
   "source": [
    "## SOM Entrenamiento"
   ]
  },
  {
   "cell_type": "code",
   "execution_count": 205,
   "metadata": {
    "collapsed": true
   },
   "outputs": [
    {
     "name": "stdout",
     "output_type": "stream",
     "text": [
      "100\n",
      "200\n",
      "300\n",
      "[2 4]  <-traducido- [ 1 , 3 ]\n",
      "[7 3]  <-traducido- [ 6 , 2 ]\n",
      "[3 5]  <-traducido- [ 2 , 4 ]\n",
      "[4 6]  <-traducido- [ 3 , 5 ]\n",
      "[3 1]  <-traducido- [ 2 , 0 ]\n",
      "[3 7]  <-traducido- [ 2 , 6 ]\n",
      "[7 7]  <-traducido- [ 6 , 6 ]\n",
      "[7 4]  <-traducido- [ 6 , 3 ]\n",
      "[2 6]  <-traducido- [ 1 , 5 ]\n",
      "[7 5]  <-traducido- [ 6 , 4 ]\n",
      "[1 3]  <-traducido- [ 0 , 2 ]\n",
      "[2 1]  <-traducido- [ 1 , 0 ]\n",
      "[6 3]  <-traducido- [ 5 , 2 ]\n",
      "[2 2]  <-traducido- [ 1 , 1 ]\n",
      "[4 2]  <-traducido- [ 3 , 1 ]\n",
      "[2 7]  <-traducido- [ 1 , 6 ]\n",
      "[7 2]  <-traducido- [ 6 , 1 ]\n",
      "[7 1]  <-traducido- [ 6 , 0 ]\n",
      "[2 5]  <-traducido- [ 1 , 4 ]\n",
      "[3 6]  <-traducido- [ 2 , 5 ]\n",
      "[6 2]  <-traducido- [ 5 , 1 ]\n",
      "[5 7]  <-traducido- [ 4 , 6 ]\n",
      "[6 7]  <-traducido- [ 5 , 6 ]\n",
      "[1 7]  <-traducido- [ 0 , 6 ]\n",
      "[1 1]  <-traducido- [ 0 , 0 ]\n",
      "[7 6]  <-traducido- [ 6 , 5 ]\n",
      "[6 1]  <-traducido- [ 5 , 0 ]\n",
      "[4 1]  <-traducido- [ 3 , 0 ]\n",
      "[5 1]  <-traducido- [ 4 , 0 ]\n",
      "[3 2]  <-traducido- [ 2 , 1 ]\n",
      "[1 5]  <-traducido- [ 0 , 4 ]\n",
      "[1 2]  <-traducido- [ 0 , 1 ]\n",
      "[1 4]  <-traducido- [ 0 , 3 ]\n",
      "[4 3]  <-traducido- [ 3 , 2 ]\n",
      "[5 6]  <-traducido- [ 4 , 5 ]\n",
      "[4 4]  <-traducido- [ 3 , 3 ]\n",
      "[1 6]  <-traducido- [ 0 , 5 ]\n",
      "[3 4]  <-traducido- [ 2 , 3 ]\n",
      "[6 5]  <-traducido- [ 5 , 4 ]\n",
      "[4 5]  <-traducido- [ 3 , 4 ]\n",
      "[5 4]  <-traducido- [ 4 , 3 ]\n",
      "[4 7]  <-traducido- [ 3 , 6 ]\n"
     ]
    },
    {
     "data": {
      "image/png": "[encoded data removed]",
      "text/plain": [
       "<Figure size 432x288 with 1 Axes>"
      ]
     },
     "metadata": {
      "needs_background": "light"
     },
     "output_type": "display_data"
    },
    {
     "data": {
      "image/png": "[encoded data removed]",
      "text/plain": [
       "<Figure size 432x288 with 1 Axes>"
      ]
     },
     "metadata": {
      "needs_background": "light"
     },
     "output_type": "display_data"
    }
   ],
   "source": [
    "# Entrena la red con el dataset de entrenamiento\n",
    "matriz_pesos_orig = matriz_pesos.copy()\n",
    "datosT = np.transpose(datos)\n",
    "listabmu = []\n",
    "listabmu.append([-1,-1])\n",
    "learning_rate_actual = learning_rate\n",
    "vecindario_actual = vecindario\n",
    "for x in range(periodo):\n",
    "    if((x+1) % 100 == 0):\n",
    "        print(x+1)\n",
    "    numAleatorio = np.random.randint(0, num_colores)\n",
    "    color = datosT[numAleatorio]\n",
    "    Bmu , BmuIndex = calcular_bmu(color,matriz_pesos,valores_color)\n",
    "    #creacion de la lista de indexes usados\n",
    "    isNotInListIndex = True\n",
    "    for index in listabmu:\n",
    "        if index[0] == BmuIndex[0] and index[1] == BmuIndex[1]:\n",
    "            isNotInListIndex = False\n",
    "    if isNotInListIndex:\n",
    "        listabmu.append(BmuIndex)\n",
    "    #Algoritmo de aprendizaje:\n",
    "    #print(matriz_pesos[BmuIndex[0]][BmuIndex[1]])\n",
    "    matriz_pesos = ajustarPesos(BmuIndex , color , learning_rate_actual , matriz_pesos, vecindario_actual).copy()\n",
    "    #print(matriz_pesos[BmuIndex[0]][BmuIndex[1]])\n",
    "    learning_rate_actual = variacion_learning_rate(learning_rate, x, periodo)\n",
    "    vecindario_actual = variacion_vecindario(vecindario, x, periodo)\n",
    "\n",
    "#Muestro los indexes usados:\n",
    "for bmuIndex in listabmu: \n",
    "    if bmuIndex[0] != -1 and bmuIndex[1] != -1:\n",
    "        print(bmuIndex + 1, \" <-traducido- [\",bmuIndex[0],\",\",bmuIndex[1],\"]\")\n",
    "#pinto mapa antiguo y nuevo para comparar\n",
    "pintar_mapa(matriz_pesos_orig)\n",
    "pintar_mapa(matriz_pesos)"
   ]
  },
  {
   "cell_type": "markdown",
   "metadata": {},
   "source": [
    "## SOM Clasificación"
   ]
  },
  {
   "cell_type": "code",
   "execution_count": 206,
   "metadata": {
    "collapsed": true
   },
   "outputs": [],
   "source": [
    "# Clasifica los patrones de entrenamiento con la matriz de pesos recién entrenada\n",
    "\n"
   ]
  },
  {
   "cell_type": "markdown",
   "metadata": {},
   "source": [
    "## SOM Prueba"
   ]
  },
  {
   "cell_type": "code",
   "execution_count": 207,
   "metadata": {
    "collapsed": true
   },
   "outputs": [],
   "source": [
    "# Clasifica nuevos patrones\n",
    "\n"
   ]
  }
 ],
 "metadata": {
  "anaconda-cloud": {},
  "kernelspec": {
   "display_name": "Python 3",
   "language": "python",
   "name": "python3"
  },
  "language_info": {
   "codemirror_mode": {
    "name": "ipython",
    "version": 3
   },
   "file_extension": ".py",
   "mimetype": "text/x-python",
   "name": "python",
   "nbconvert_exporter": "python",
   "pygments_lexer": "ipython3",
   "version": "3.8.5"
  }
 },
 "nbformat": 4,
 "nbformat_minor": 2
}
