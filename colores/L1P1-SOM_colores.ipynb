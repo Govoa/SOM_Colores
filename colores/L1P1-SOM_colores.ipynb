{
 "cells": [
  {
   "cell_type": "markdown",
   "metadata": {},
   "source": [
    "# Práctica 1 - Self-Organising Maps - COLORES\n",
    "## Preparación de entorno\n",
    "#### Importar librerías de código"
   ]
  },
  {
   "cell_type": "code",
   "execution_count": 85,
   "metadata": {
    "scrolled": true
   },
   "outputs": [],
   "source": [
    "# from __future__ import division\n",
    "\n",
    "import numpy as np\n",
    "from matplotlib import pyplot as plt\n",
    "from matplotlib import patches as patches\n",
    "\n",
    "%matplotlib inline"
   ]
  },
  {
   "cell_type": "markdown",
   "metadata": {},
   "source": [
    "#### Dataset que se va a utilizar para el entrenamiento"
   ]
  },
  {
   "cell_type": "code",
   "execution_count": 86,
   "metadata": {
    "collapsed": true
   },
   "outputs": [],
   "source": [
    "# Código para obtener el Dataset que se va a usar en el entrenamiento\n",
    "valor_max = 256\n",
    "valor_min = 0\n",
    "valores_color = 3\n",
    "num_colores = 100\n",
    "datos = np.random.randint(valor_min, valor_max, (valores_color, num_colores))"
   ]
  },
  {
   "cell_type": "markdown",
   "metadata": {},
   "source": [
    "## SOM Setup\n",
    "#### Variables definidas por el alumno"
   ]
  },
  {
   "cell_type": "code",
   "execution_count": 87,
   "metadata": {
    "collapsed": true
   },
   "outputs": [],
   "source": [
    "# Inicializa tamaño del mapa de Kohonen, número de iteraciones y learning rate\n",
    "# Inicializa normalizar_datos dependiendo de si tienes que normalizar los datos o no\n",
    "lado_mapa = 15 #  HAY QUE TOCARLO\n",
    "periodo = 1500 # HAY QUE TOCARLO\n",
    "learning_rate = 0.15 # HAY QUE TOCARLO\n",
    "normalizar_datos = True"
   ]
  },
  {
   "cell_type": "markdown",
   "metadata": {},
   "source": [
    "#### A partir de este punto solo hay cálculos. No se introducen más valores \"a mano\""
   ]
  },
  {
   "cell_type": "code",
   "execution_count": 88,
   "metadata": {
    "collapsed": true
   },
   "outputs": [],
   "source": [
    "# Establece el numero de entradas del mapa y el número de datos que se van a usar para entrenar. \n",
    "# Utiliza una función que obtenga automáticamente los valores a partir del Dataset.\n",
    "num_entradas = valores_color\n",
    "num_datos = num_colores\n",
    "\n",
    "# Calcula el vecindario inicial. Debe ser la mitad del lado del mapa de Kohonen\n",
    "vecindario = int(lado_mapa/2)\n",
    "\n",
    "# Normaliza los datos si fuese necesario dividiendo cada dato por el máximo en la matriz\n",
    "if normalizar_datos:\n",
    "    datos = datos / 255\n",
    "    \n",
    "# Crea una matriz de pesos con valores random entre 0 y 1. Usa la función random.random de la librería NumPy\n",
    "matriz_pesos = np.random.random((lado_mapa,lado_mapa,valores_color))"
   ]
  },
  {
   "cell_type": "markdown",
   "metadata": {},
   "source": [
    "#### Funciones para entrenar/clasificar"
   ]
  },
  {
   "cell_type": "code",
   "execution_count": 89,
   "metadata": {
    "collapsed": true
   },
   "outputs": [],
   "source": [
    "# Función para encontrar la BMU\n",
    "\"\"\"\n",
    "   Encuentra la BMU para un patrón de entrada.\n",
    "   Entradas: (patrón_de_entrada, matriz_de_pesos, número_de_entradas)\n",
    "   Salidas:  (bmu, bmu_idx) tupla donde\n",
    "               bmu: vector de pesos de la neurona ganadora\n",
    "               bum_idx: coordenadas de la neurona ganadora\n",
    "\"\"\"\n",
    "def calcular_bmu(patron_entrada, m_pesos, m):\n",
    "   rows = len(m_pesos)\n",
    "   columns = len(m_pesos[0])\n",
    "   vectorPesos =  []\n",
    "   ganadora = 2000\n",
    "   for x in range(rows):\n",
    "      for y in range(columns):\n",
    "         for z in range(m):\n",
    "            vectorPesos.append(m_pesos[x][y][z])\n",
    "         dist = np.linalg.norm(np.array(vectorPesos) - np.array(patron_entrada))\n",
    "         if dist < ganadora:\n",
    "            ganadora = dist\n",
    "            Bmu = vectorPesos\n",
    "            BmuIndex = [x,y]\n",
    "         vectorPesos = []\n",
    "   return Bmu , BmuIndex"
   ]
  },
  {
   "cell_type": "code",
   "execution_count": 90,
   "metadata": {
    "collapsed": true
   },
   "outputs": [],
   "source": [
    "# Función para calcular el descenso del coeficiente de aprendizaje (eta)\n",
    "\"\"\"\n",
    "   Calcula el Learning Rate (eta) que corresponde a la i-ésima presentación.\n",
    "   Entradas: (learning_rate_inicial, iteracion, período)\n",
    "   Salidas:  learning_rate para la iteración i\n",
    "\n",
    "\"\"\"\n",
    "def variacion_learning_rate(lr_inicial, i, n_iteraciones):\n",
    "   learning_rate = lr_inicial * (1 - i/n_iteraciones)\n",
    "   return learning_rate"
   ]
  },
  {
   "cell_type": "code",
   "execution_count": 91,
   "metadata": {
    "collapsed": true
   },
   "outputs": [],
   "source": [
    "# Función para calcular el descenso del vecindario (v)\n",
    "\"\"\"\n",
    "   Calcula el vecindario  (v) que corresponde a la i-ésima presentación.\n",
    "   Entradas: (vecindario_inicial, iteracion, período)\n",
    "   Salidas:  lvecindario para la iteración i\n",
    "\n",
    "\"\"\"\n",
    "def variacion_vecindario(vecindario_inicial, i, n_iteraciones):\n",
    "   if i == 0: # Si no da error de division by zero\n",
    "      return 1\n",
    "   vecindario = 1 + vecindario_inicial * (1 - i/n_iteraciones)\n",
    "   return int(vecindario)"
   ]
  },
  {
   "cell_type": "code",
   "execution_count": 92,
   "metadata": {
    "collapsed": true
   },
   "outputs": [],
   "source": [
    "# Función para calcular el descenso del coeficiente de aprendizaje (eta) en función de la distancia a la BMU\n",
    "\"\"\"\n",
    "   Calcula la amortiguación de eta en función de la distancia en el mapa entre una neurona y la BMU.\n",
    "   Entradas: (distancia_BMU, vecindario_actual)\n",
    "   Salidas:  amortiguación para la iteración\n",
    "\n",
    "\"\"\"\n",
    "def decay(distancia_BMU, vecindario_actual):\n",
    "    return np.exp(-distancia_BMU**2 / (2*vecindario_actual**2))"
   ]
  },
  {
   "cell_type": "code",
   "execution_count": 93,
   "metadata": {},
   "outputs": [],
   "source": [
    "#Funcion Ajuste de matriz de pesos\n",
    "def ajustarPesos(IndexN , color , learning_rate , matriz_pesos, vecindario):\n",
    "    matriz_pesos[IndexN[0],IndexN[1],:] += learning_rate * (color - matriz_pesos[IndexN[0],IndexN[1],:]) # Cambiamos la ganadora\n",
    "    # AHORA EL VECINADRIO LO CAMBIAMOS\n",
    "    for i in range(max(0, IndexN[0]-vecindario), min(len(matriz_pesos), IndexN[0]+vecindario)): # NO SE SALE DE LIMITES\n",
    "        for j in range(max(0, IndexN[1]-vecindario), min(len(matriz_pesos[0]), IndexN[1]+vecindario)): # NO SE SALE DE LIMITES\n",
    "            dist_euc = np.linalg.norm(np.array(matriz_pesos[i,j,:]) - np.array(color)) # Distancia euclidea\n",
    "            \"\"\"\n",
    "            Si la distancia ≤ vecindario, calcula la amortiguación de esa neurona y actualiza el \n",
    "            vector de pesos de la neurona usando la fórmula\n",
    "            \"\"\"\n",
    "            if(dist_euc <= vecindario):\n",
    "                dist_decay = decay(dist_euc,vecindario) # AMORTIGUACIÓN\n",
    "                matriz_pesos[i,j,:] += learning_rate * dist_decay * (color - matriz_pesos[i,j,:])   \n",
    "    return matriz_pesos\n"
   ]
  },
  {
   "cell_type": "markdown",
   "metadata": {},
   "source": [
    "#### Funciones para dibujar la salida de la red"
   ]
  },
  {
   "cell_type": "code",
   "execution_count": 94,
   "metadata": {
    "collapsed": true
   },
   "outputs": [],
   "source": [
    "# Función para pintar una matriz de valores como colores RGB\n",
    "def pintar_mapa(matriz_valores):\n",
    "    fig = plt.figure()\n",
    "    \n",
    "    # Establece ejes\n",
    "    ax = fig.add_subplot(111, aspect='equal')\n",
    "    ax.set_xlim((0, matriz_pesos.shape[0]+1))\n",
    "    ax.set_ylim((0, matriz_pesos.shape[1]+1))\n",
    "    ax.set_title('Self-Organising Map después de %d iteraciones' % periodo)\n",
    "\n",
    "    # Dibuja los rectángulos de color RGB\n",
    "    for x in range(1, matriz_valores.shape[0] + 1):\n",
    "        for y in range(1, matriz_valores.shape[1] + 1):\n",
    "            ax.add_patch(patches.Rectangle((x-0.5, y-0.5), 1, 1,\n",
    "                         facecolor=matriz_valores[x-1,y-1,:],\n",
    "                         edgecolor='none'))\n",
    "    plt.show()"
   ]
  },
  {
   "cell_type": "markdown",
   "metadata": {},
   "source": [
    "## SOM Entrenamiento"
   ]
  },
  {
   "cell_type": "code",
   "execution_count": 95,
   "metadata": {},
   "outputs": [],
   "source": [
    "def shuffle():\n",
    "    rng = np.random.default_rng()\n",
    "    datos = datos = np.random.randint(valor_min, valor_max, (valores_color, num_colores))\n",
    "    datos = datos/255\n",
    "    datos = np.transpose(datos)\n",
    "    datos = rng.permuted(datos, out=datos) # MOvemos los datos pa que no se acostumbre\n",
    "    return datos"
   ]
  },
  {
   "cell_type": "code",
   "execution_count": 96,
   "metadata": {
    "collapsed": true
   },
   "outputs": [
    {
     "data": {
      "image/png": "[encoded data removed]",
      "text/plain": [
       "<Figure size 432x288 with 1 Axes>"
      ]
     },
     "metadata": {
      "needs_background": "light"
     },
     "output_type": "display_data"
    },
    {
     "name": "stdout",
     "output_type": "stream",
     "text": [
      "0\n",
      "100\n",
      "200\n",
      "300\n",
      "400\n",
      "500\n",
      "600\n",
      "700\n",
      "800\n",
      "900\n",
      "1000\n",
      "1100\n",
      "1200\n",
      "1300\n",
      "1400\n",
      "[[[0.44467136 0.20909809 0.18994995]\n",
      "  [0.5015988  0.23681199 0.19095505]\n",
      "  [0.53017803 0.2697333  0.17346705]\n",
      "  [0.65884734 0.4694185  0.18586469]\n",
      "  [0.68133304 0.51463105 0.18910086]\n",
      "  [0.70322913 0.61424471 0.20962109]\n",
      "  [0.69784738 0.78740287 0.25774221]\n",
      "  [0.58619004 0.84496426 0.20631953]\n",
      "  [0.5431701  0.84756529 0.23409036]\n",
      "  [0.44825771 0.83498952 0.21427541]\n",
      "  [0.35681643 0.82961853 0.23468012]\n",
      "  [0.30994471 0.7106894  0.25952838]\n",
      "  [0.26192307 0.70761911 0.25545298]\n",
      "  [0.24023922 0.648534   0.27568588]\n",
      "  [0.1950292  0.5823749  0.27491403]]\n",
      "\n",
      " [[0.53363414 0.22173193 0.19190247]\n",
      "  [0.54106866 0.23851381 0.19621916]\n",
      "  [0.58458299 0.27831652 0.1883382 ]\n",
      "  [0.72529838 0.46996833 0.1722111 ]\n",
      "  [0.7380454  0.50635252 0.17399964]\n",
      "  [0.77238154 0.59675558 0.19403434]\n",
      "  [0.77496781 0.76051018 0.23652474]\n",
      "  [0.64542855 0.82617698 0.22481279]\n",
      "  [0.58885821 0.84634117 0.25736489]\n",
      "  [0.50427716 0.83270954 0.2637606 ]\n",
      "  [0.44215033 0.79518755 0.30994887]\n",
      "  [0.3578001  0.70675092 0.30298928]\n",
      "  [0.31323119 0.68502391 0.30199837]\n",
      "  [0.31567129 0.62118217 0.32931014]\n",
      "  [0.2868879  0.61704809 0.32501601]]\n",
      "\n",
      " [[0.56565487 0.22782263 0.2200365 ]\n",
      "  [0.57242648 0.23978177 0.21294021]\n",
      "  [0.61205542 0.28231046 0.20797288]\n",
      "  [0.74067202 0.47360983 0.19241855]\n",
      "  [0.74981516 0.51385594 0.19785176]\n",
      "  [0.77993572 0.60819972 0.20955018]\n",
      "  [0.7941773  0.76894906 0.2344708 ]\n",
      "  [0.67558552 0.80656712 0.26113501]\n",
      "  [0.62996849 0.82508057 0.29659176]\n",
      "  [0.54685116 0.81866142 0.30232427]\n",
      "  [0.4852581  0.7850073  0.34096271]\n",
      "  [0.39737134 0.7034407  0.32716973]\n",
      "  [0.35923739 0.68650025 0.33148266]\n",
      "  [0.33286671 0.62394908 0.34907351]\n",
      "  [0.29703288 0.61292542 0.33922191]]\n",
      "\n",
      " [[0.75197773 0.22556836 0.28418969]\n",
      "  [0.75781924 0.25575667 0.29374637]\n",
      "  [0.78043271 0.30009012 0.27866458]\n",
      "  [0.82542709 0.47003955 0.23943931]\n",
      "  [0.81286062 0.50222399 0.25452988]\n",
      "  [0.83272601 0.59859029 0.2265066 ]\n",
      "  [0.83068305 0.71113953 0.28028484]\n",
      "  [0.82492099 0.75102445 0.32984436]\n",
      "  [0.78504473 0.79447119 0.38470715]\n",
      "  [0.77781348 0.79181586 0.44253013]\n",
      "  [0.72849027 0.73568062 0.52101923]\n",
      "  [0.73612037 0.66616156 0.60072815]\n",
      "  [0.72550207 0.6423208  0.61435383]\n",
      "  [0.70842626 0.6158404  0.61839249]\n",
      "  [0.7291152  0.59892018 0.63867654]]\n",
      "\n",
      " [[0.79215311 0.22929972 0.36001702]\n",
      "  [0.7941303  0.24487332 0.35953895]\n",
      "  [0.8099699  0.2990277  0.33694475]\n",
      "  [0.83211638 0.4700617  0.27979178]\n",
      "  [0.82154887 0.49830494 0.29387489]\n",
      "  [0.84992595 0.59861775 0.26379391]\n",
      "  [0.82567377 0.69738001 0.31750859]\n",
      "  [0.83084941 0.73153955 0.35327515]\n",
      "  [0.80068127 0.76976924 0.42755424]\n",
      "  [0.79325152 0.77474549 0.50417056]\n",
      "  [0.74978774 0.72810371 0.56352344]\n",
      "  [0.75605091 0.6839586  0.6587452 ]\n",
      "  [0.75374889 0.66205753 0.68011202]\n",
      "  [0.73490781 0.63434704 0.708699  ]\n",
      "  [0.75751497 0.62833811 0.70596498]]\n",
      "\n",
      " [[0.84061762 0.22172337 0.4633425 ]\n",
      "  [0.82682768 0.2396102  0.46317767]\n",
      "  [0.8360486  0.29077273 0.43253766]\n",
      "  [0.82742365 0.42766421 0.35362428]\n",
      "  [0.80965317 0.46386056 0.36000211]\n",
      "  [0.79686074 0.54459089 0.3498414 ]\n",
      "  [0.77185657 0.64979484 0.39189041]\n",
      "  [0.78395875 0.69331264 0.43455905]\n",
      "  [0.75923218 0.73494842 0.52230757]\n",
      "  [0.78171118 0.75573822 0.55909389]\n",
      "  [0.79653121 0.72383794 0.62896198]\n",
      "  [0.78294675 0.72167486 0.74563245]\n",
      "  [0.78897546 0.70315943 0.77487651]\n",
      "  [0.78870626 0.69943259 0.79731258]\n",
      "  [0.80142008 0.70540014 0.79700538]]\n",
      "\n",
      " [[0.82338986 0.20842216 0.6261166 ]\n",
      "  [0.80001597 0.22874881 0.60999854]\n",
      "  [0.77088575 0.28065709 0.59242694]\n",
      "  [0.72195908 0.39411425 0.49361035]\n",
      "  [0.71091597 0.44529097 0.47727201]\n",
      "  [0.69642315 0.51048428 0.4593878 ]\n",
      "  [0.67791666 0.58860915 0.47304883]\n",
      "  [0.69588825 0.63823959 0.4983188 ]\n",
      "  [0.71776019 0.70613989 0.55749684]\n",
      "  [0.75058341 0.73390235 0.57872515]\n",
      "  [0.75771804 0.71915349 0.66685413]\n",
      "  [0.76504645 0.72996782 0.77761666]\n",
      "  [0.77642514 0.72164607 0.7968569 ]\n",
      "  [0.77721199 0.72827859 0.81534666]\n",
      "  [0.80792077 0.70330655 0.83637567]]\n",
      "\n",
      " [[0.75878685 0.18174442 0.68779939]\n",
      "  [0.73382417 0.20651838 0.67564038]\n",
      "  [0.70046823 0.23473615 0.66396316]\n",
      "  [0.63696861 0.34142385 0.60087102]\n",
      "  [0.64765806 0.41629076 0.5546065 ]\n",
      "  [0.62719717 0.49334678 0.53064667]\n",
      "  [0.60656471 0.54595007 0.52230147]\n",
      "  [0.6178115  0.61320116 0.55603497]\n",
      "  [0.63867304 0.68203039 0.61867269]\n",
      "  [0.64387    0.71938974 0.62979002]\n",
      "  [0.61946884 0.74997691 0.71312946]\n",
      "  [0.65666179 0.77333989 0.78832458]\n",
      "  [0.66440511 0.78063522 0.79750398]\n",
      "  [0.66369684 0.79996253 0.81058353]\n",
      "  [0.69131434 0.80996684 0.81228412]]\n",
      "\n",
      " [[0.6976906  0.18170405 0.73444868]\n",
      "  [0.66778163 0.19967013 0.69715283]\n",
      "  [0.63608859 0.22676564 0.68822173]\n",
      "  [0.59433396 0.32221176 0.64451187]\n",
      "  [0.59915476 0.39106251 0.59273064]\n",
      "  [0.57296699 0.44836263 0.58009085]\n",
      "  [0.54321774 0.50650629 0.58062002]\n",
      "  [0.5128248  0.56821206 0.62506034]\n",
      "  [0.53582975 0.65033589 0.68447424]\n",
      "  [0.51050363 0.69940181 0.68960645]\n",
      "  [0.50668064 0.74426414 0.74578734]\n",
      "  [0.58248181 0.78593108 0.8032595 ]\n",
      "  [0.58682985 0.79567588 0.8085256 ]\n",
      "  [0.60466674 0.80883861 0.80945522]\n",
      "  [0.62945466 0.83982199 0.81380708]]\n",
      "\n",
      " [[0.62990354 0.14157447 0.73761031]\n",
      "  [0.5877283  0.16356619 0.73546633]\n",
      "  [0.55846621 0.19566881 0.72472071]\n",
      "  [0.49388776 0.27818951 0.70260119]\n",
      "  [0.49957374 0.34141584 0.66273692]\n",
      "  [0.44785119 0.41208932 0.67901797]\n",
      "  [0.46245954 0.46623134 0.68725701]\n",
      "  [0.47061264 0.56355431 0.67170399]\n",
      "  [0.4851379  0.64782529 0.72566066]\n",
      "  [0.46941755 0.68326064 0.73054426]\n",
      "  [0.45698355 0.73634994 0.75828746]\n",
      "  [0.50496983 0.8246487  0.77517221]\n",
      "  [0.5066805  0.83531226 0.7843122 ]\n",
      "  [0.52310232 0.85664445 0.79006357]\n",
      "  [0.55375708 0.88452002 0.76430765]]\n",
      "\n",
      " [[0.48960525 0.13977284 0.68532398]\n",
      "  [0.4720205  0.15546331 0.71566829]\n",
      "  [0.45873501 0.18572228 0.69803093]\n",
      "  [0.43896046 0.27797609 0.74431718]\n",
      "  [0.42423373 0.33380631 0.72602361]\n",
      "  [0.42226197 0.3927823  0.74618185]\n",
      "  [0.41692574 0.44335471 0.74126344]\n",
      "  [0.40805667 0.54011846 0.73608883]\n",
      "  [0.41785716 0.61738791 0.77330679]\n",
      "  [0.40648297 0.66477968 0.75336355]\n",
      "  [0.39147521 0.72237831 0.7752265 ]\n",
      "  [0.39266481 0.82637771 0.75235651]\n",
      "  [0.3897582  0.83556418 0.74091723]\n",
      "  [0.40481226 0.88111625 0.75128474]\n",
      "  [0.43127947 0.91011011 0.70145378]]\n",
      "\n",
      " [[0.26792704 0.17277503 0.68055606]\n",
      "  [0.27112298 0.17940585 0.70958618]\n",
      "  [0.27998133 0.2008347  0.70416953]\n",
      "  [0.28246319 0.25466485 0.80103871]\n",
      "  [0.30651509 0.30333411 0.8102512 ]\n",
      "  [0.32045167 0.35141711 0.82536365]\n",
      "  [0.42386122 0.416762   0.81840655]\n",
      "  [0.39725954 0.51402405 0.76894313]\n",
      "  [0.36978514 0.58454923 0.78663833]\n",
      "  [0.31790829 0.63422391 0.74840974]\n",
      "  [0.28000048 0.69952197 0.74371807]\n",
      "  [0.24318954 0.78176076 0.72036452]\n",
      "  [0.23788147 0.78932715 0.71672275]\n",
      "  [0.23272044 0.84152556 0.72345707]\n",
      "  [0.22784719 0.86867231 0.71430338]]\n",
      "\n",
      " [[0.19646086 0.18089624 0.66973486]\n",
      "  [0.20097946 0.18937733 0.69755579]\n",
      "  [0.20480739 0.1961528  0.70252275]\n",
      "  [0.22187721 0.23746951 0.84494772]\n",
      "  [0.26754819 0.2742691  0.87058121]\n",
      "  [0.29165811 0.33494788 0.88228884]\n",
      "  [0.42843922 0.41169918 0.88763009]\n",
      "  [0.41115601 0.51957548 0.80881082]\n",
      "  [0.36586943 0.58489874 0.8017237 ]\n",
      "  [0.31349244 0.63169612 0.75119003]\n",
      "  [0.26806451 0.69009365 0.73399764]\n",
      "  [0.22627379 0.77408895 0.71828862]\n",
      "  [0.2208633  0.78341124 0.71249029]\n",
      "  [0.21435257 0.83781522 0.71757697]\n",
      "  [0.2091206  0.86032495 0.70609727]]\n",
      "\n",
      " [[0.12795305 0.17718669 0.63242082]\n",
      "  [0.13959355 0.20210624 0.69706588]\n",
      "  [0.14509823 0.20925939 0.702184  ]\n",
      "  [0.1743587  0.25674638 0.85814585]\n",
      "  [0.24881031 0.28842191 0.88624633]\n",
      "  [0.28155601 0.33343896 0.89355114]\n",
      "  [0.41916992 0.41772311 0.89634934]\n",
      "  [0.41905343 0.5013868  0.81463336]\n",
      "  [0.37180811 0.55748858 0.78812571]\n",
      "  [0.31284702 0.60870379 0.74618235]\n",
      "  [0.23684074 0.6460152  0.71260827]\n",
      "  [0.17697999 0.74959113 0.71192837]\n",
      "  [0.16587473 0.76240096 0.70496354]\n",
      "  [0.14926904 0.82214851 0.71481724]\n",
      "  [0.1431826  0.8676351  0.67863649]]\n",
      "\n",
      " [[0.09944987 0.22174209 0.65122545]\n",
      "  [0.11040525 0.20817604 0.70924365]\n",
      "  [0.11744122 0.20829798 0.71487836]\n",
      "  [0.1162969  0.25119359 0.86883114]\n",
      "  [0.22969112 0.28864256 0.89680139]\n",
      "  [0.2756001  0.32942557 0.89768677]\n",
      "  [0.42860563 0.39815878 0.90030479]\n",
      "  [0.44787836 0.48723236 0.8234062 ]\n",
      "  [0.39080608 0.54360335 0.79158826]\n",
      "  [0.32070141 0.57912976 0.74487694]\n",
      "  [0.24008764 0.62228828 0.6897383 ]\n",
      "  [0.15861114 0.73431592 0.70186293]\n",
      "  [0.13824527 0.74431965 0.68689247]\n",
      "  [0.12873026 0.81672227 0.70508864]\n",
      "  [0.11827883 0.85851375 0.75541595]]]\n"
     ]
    },
    {
     "data": {
      "image/png": "[encoded data removed]",
      "text/plain": [
       "<Figure size 432x288 with 1 Axes>"
      ]
     },
     "metadata": {
      "needs_background": "light"
     },
     "output_type": "display_data"
    },
    {
     "name": "stdout",
     "output_type": "stream",
     "text": [
      "1\n"
     ]
    }
   ],
   "source": [
    "# Entrena la red con el dataset de entrenamiento\n",
    "pintar_mapa(matriz_pesos)\n",
    "matriz_antes = matriz_pesos\n",
    "for x in range(periodo):\n",
    "    if x % 100 == 0:\n",
    "        print(x, \"Iteraciones hechas\")\n",
    "    datos = shuffle() # Generamos nuevo set de 100 datos en cada iteración para que no se acosutmbre\n",
    "    for color in datos:\n",
    "        Bmu , BmuIndex = calcular_bmu(color,matriz_pesos,valores_color)\n",
    "        matriz_pesos = ajustarPesos(BmuIndex , color , learning_rate , matriz_pesos, vecindario).copy()\n",
    "        learning_rate = variacion_learning_rate(learning_rate,x,periodo)\n",
    "        vecindario = variacion_vecindario(3,x,periodo)\n",
    "print(matriz_pesos)\n",
    "pintar_mapa(matriz_pesos)"
   ]
  },
  {
   "cell_type": "markdown",
   "metadata": {},
   "source": [
    "## SOM Clasificación"
   ]
  },
  {
   "cell_type": "code",
   "execution_count": 97,
   "metadata": {
    "collapsed": true
   },
   "outputs": [],
   "source": [
    "# Clasifica los patrones de entrenamiento con la matriz de pesos recién entrenada\n",
    "\n"
   ]
  },
  {
   "cell_type": "markdown",
   "metadata": {},
   "source": [
    "## SOM Prueba"
   ]
  },
  {
   "cell_type": "code",
   "execution_count": 98,
   "metadata": {
    "collapsed": true
   },
   "outputs": [],
   "source": [
    "# Clasifica nuevos patrones\n",
    "\n"
   ]
  }
 ],
 "metadata": {
  "anaconda-cloud": {},
  "kernelspec": {
   "display_name": "Python 3",
   "language": "python",
   "name": "python3"
  },
  "language_info": {
   "codemirror_mode": {
    "name": "ipython",
    "version": 3
   },
   "file_extension": ".py",
   "mimetype": "text/x-python",
   "name": "python",
   "nbconvert_exporter": "python",
   "pygments_lexer": "ipython3",
   "version": "3.9.7"
  }
 },
 "nbformat": 4,
 "nbformat_minor": 2
}
