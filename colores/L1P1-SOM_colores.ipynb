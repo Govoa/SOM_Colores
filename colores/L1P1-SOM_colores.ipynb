{
 "cells": [
  {
   "cell_type": "markdown",
   "metadata": {},
   "source": [
    "# Práctica 1 - Self-Organising Maps - COLORES\n",
    "## Preparación de entorno\n",
    "#### Importar librerías de código"
   ]
  },
  {
   "cell_type": "code",
   "execution_count": 892,
   "metadata": {
    "scrolled": true
   },
   "outputs": [],
   "source": [
    "# from __future__ import division\n",
    "\n",
    "import numpy as np\n",
    "from matplotlib import pyplot as plt\n",
    "from matplotlib import patches as patches\n",
    "\n",
    "%matplotlib inline"
   ]
  },
  {
   "cell_type": "markdown",
   "metadata": {},
   "source": [
    "#### Dataset que se va a utilizar para el entrenamiento"
   ]
  },
  {
   "cell_type": "code",
   "execution_count": 893,
   "metadata": {
    "collapsed": true
   },
   "outputs": [],
   "source": [
    "# Código para obtener el Dataset que se va a usar en el entrenamiento\n",
    "valor_max = 256\n",
    "valor_min = 0\n",
    "valores_color = 3\n",
    "num_colores = 100\n",
    "datos = np.random.randint(valor_min, valor_max, (valores_color, num_colores))"
   ]
  },
  {
   "cell_type": "markdown",
   "metadata": {},
   "source": [
    "## SOM Setup\n",
    "#### Variables definidas por el alumno"
   ]
  },
  {
   "cell_type": "code",
   "execution_count": 894,
   "metadata": {
    "collapsed": true
   },
   "outputs": [],
   "source": [
    "# Inicializa tamaño del mapa de Kohonen, número de iteraciones y learning rate\n",
    "# Inicializa normalizar_datos dependiendo de si tienes que normalizar los datos o no\n",
    "lado_mapa = 7\n",
    "periodo = 300\n",
    "learning_rate = 0.1\n",
    "normalizar_datos = True"
   ]
  },
  {
   "cell_type": "markdown",
   "metadata": {},
   "source": [
    "#### A partir de este punto solo hay cálculos. No se introducen más valores \"a mano\""
   ]
  },
  {
   "cell_type": "code",
   "execution_count": 895,
   "metadata": {
    "collapsed": true
   },
   "outputs": [],
   "source": [
    "# Establece el numero de entradas del mapa y el número de datos que se van a usar para entrenar. \n",
    "# Utiliza una función que obtenga automáticamente los valores a partir del Dataset.\n",
    "num_entradas = valores_color\n",
    "num_datos = num_colores\n",
    "\n",
    "# Calcula el vecindario inicial. Debe ser la mitad del lado del mapa de Kohonen\n",
    "vecindario = int(lado_mapa/2)\n",
    "\n",
    "# Normaliza los datos si fuese necesario dividiendo cada dato por el máximo en la matriz\n",
    "if normalizar_datos:\n",
    "    #datos = preprocessing.normalize(datos)\n",
    "    datos = datos / 255\n",
    "# Crea una matriz de pesos con valores random entre 0 y 1. Usa la función random.random de la librería NumPy\n",
    "matriz_pesos = np.random.random((lado_mapa,lado_mapa,valores_color))"
   ]
  },
  {
   "cell_type": "markdown",
   "metadata": {},
   "source": [
    "#### Funciones para entrenar/clasificar"
   ]
  },
  {
   "cell_type": "code",
   "execution_count": 896,
   "metadata": {
    "collapsed": true
   },
   "outputs": [],
   "source": [
    "# Función para encontrar la BMU\n",
    "\"\"\"\n",
    "   Encuentra la BMU para un patrón de entrada.\n",
    "   Entradas: (patrón_de_entrada, matriz_de_pesos, número_de_entradas)\n",
    "   Salidas:  (bmu, bmu_idx) tupla donde\n",
    "               bmu: vector de pesos de la neurona ganadora\n",
    "               bum_idx: coordenadas de la neurona ganadora\n",
    "\"\"\"\n",
    "def calcular_bmu(patron_entrada, m_pesos, m):\n",
    "   rows = len(m_pesos)\n",
    "   columns = len(m_pesos[0])\n",
    "   vectorPesos =  []\n",
    "   ganadora = 2000\n",
    "   for x in range(rows):\n",
    "      for y in range(columns):\n",
    "         for z in range(m):\n",
    "            vectorPesos.append(m_pesos[x][y][z])\n",
    "         dist = np.linalg.norm(np.array(vectorPesos - patron_entrada))\n",
    "         if dist < ganadora:\n",
    "            ganadora = dist\n",
    "            Bmu = vectorPesos\n",
    "            BmuIndex = np.stack((x,y))\n",
    "         vectorPesos = []\n",
    "   return Bmu , BmuIndex"
   ]
  },
  {
   "cell_type": "code",
   "execution_count": 897,
   "metadata": {
    "collapsed": true
   },
   "outputs": [],
   "source": [
    "# Función para calcular el descenso del coeficiente de aprendizaje (eta)\n",
    "\"\"\"\n",
    "   Calcula el Learning Rate (eta) que corresponde a la i-ésima presentación.\n",
    "   Entradas: (learning_rate_inicial, iteracion, período)\n",
    "   Salidas:  learning_rate para la iteración i\n",
    "\n",
    "\"\"\"\n",
    "def variacion_learning_rate(lr_inicial, i, n_iteraciones):\n",
    "   learning_rate = lr_inicial * (1 - i/n_iteraciones)\n",
    "   return learning_rate\n"
   ]
  },
  {
   "cell_type": "code",
   "execution_count": 898,
   "metadata": {
    "collapsed": true
   },
   "outputs": [],
   "source": [
    "# Función para calcular el descenso del vecindario (v)\n",
    "\"\"\"\n",
    "   Calcula el vecindario  (v) que corresponde a la i-ésima presentación.\n",
    "   Entradas: (vecindario_inicial, iteracion, período)\n",
    "   Salidas:  lvecindario para la iteración i\n",
    "\n",
    "\"\"\"\n",
    "def variacion_vecindario(vecindario_inicial, i, n_iteraciones):\n",
    "   vecindario = 1 + vecindario_inicial * (1 - i/n_iteraciones)\n",
    "   return vecindario\n",
    "   "
   ]
  },
  {
   "cell_type": "code",
   "execution_count": 899,
   "metadata": {
    "collapsed": true
   },
   "outputs": [],
   "source": [
    "# Función para calcular el descenso del coeficiente de aprendizaje (eta) en función de la distancia a la BMU\n",
    "\"\"\"\n",
    "   Calcula la amortiguación de eta en función de la distancia en el mapa entre una neurona y la BMU.\n",
    "   Entradas: (distancia_BMU, vecindario_actual)\n",
    "   Salidas:  amortiguación para la iteración\n",
    "\n",
    "\"\"\"\n",
    "def decay(distancia_BMU, vecindario_actual):\n",
    "    return np.exp(-distancia_BMU**2 / (2*vecindario_actual**2))"
   ]
  },
  {
   "cell_type": "code",
   "execution_count": 900,
   "metadata": {},
   "outputs": [],
   "source": [
    "#Funcion Ajuste de matriz de pesos\n",
    "def ajustarPesos(IndexN , color , learning_rate , matriz_pesos):\n",
    "    matriz_pesos[IndexN[0]][IndexN[1]] = matriz_pesos[IndexN[0]][IndexN[1]] + (learning_rate * (color - matriz_pesos[IndexN[0]][IndexN[1]]))\n",
    "    return matriz_pesos\n"
   ]
  },
  {
   "cell_type": "markdown",
   "metadata": {},
   "source": [
    "#### Funciones para dibujar la salida de la red"
   ]
  },
  {
   "cell_type": "code",
   "execution_count": 901,
   "metadata": {
    "collapsed": true
   },
   "outputs": [],
   "source": [
    "# Función para pintar una matriz de valores como colores RGB\n",
    "def pintar_mapa(matriz_valores):\n",
    "    fig = plt.figure()\n",
    "    \n",
    "    # Establece ejes\n",
    "    ax = fig.add_subplot(111, aspect='equal')\n",
    "    ax.set_xlim((0, matriz_pesos.shape[0]+1))\n",
    "    ax.set_ylim((0, matriz_pesos.shape[1]+1))\n",
    "    ax.set_title('Self-Organising Map después de %d iteraciones' % periodo)\n",
    "\n",
    "    # Dibuja los rectángulos de color RGB\n",
    "    for x in range(1, matriz_valores.shape[0] + 1):\n",
    "        for y in range(1, matriz_valores.shape[1] + 1):\n",
    "            ax.add_patch(patches.Rectangle((x-0.5, y-0.5), 1, 1,\n",
    "                         facecolor=matriz_valores[x-1,y-1,:],\n",
    "                         edgecolor='none'))\n",
    "    plt.show()"
   ]
  },
  {
   "cell_type": "markdown",
   "metadata": {},
   "source": [
    "## SOM Entrenamiento"
   ]
  },
  {
   "cell_type": "code",
   "execution_count": 902,
   "metadata": {
    "collapsed": true
   },
   "outputs": [
    {
     "name": "stdout",
     "output_type": "stream",
     "text": [
      "0\n",
      "[5 1]\n",
      "[2 4]\n",
      "[4 2]\n",
      "[0 3]\n",
      "[6 1]\n",
      "[5 6]\n",
      "[4 0]\n",
      "[6 1]\n",
      "[2 3]\n",
      "[3 5]\n",
      "[6 6]\n",
      "[2 4]\n",
      "[3 0]\n",
      "[3 5]\n",
      "[2 4]\n",
      "[3 3]\n",
      "[6 3]\n",
      "[2 4]\n",
      "[3 0]\n",
      "[3 1]\n",
      "[5 3]\n",
      "[0 1]\n",
      "[2 4]\n",
      "[1 3]\n",
      "[1 3]\n",
      "[3 1]\n",
      "[3 1]\n",
      "[0 4]\n",
      "[6 2]\n",
      "[5 1]\n",
      "[1 2]\n",
      "[5 6]\n",
      "[4 4]\n",
      "[2 1]\n",
      "[4 4]\n",
      "[3 5]\n",
      "[5 6]\n",
      "[6 2]\n",
      "[0 4]\n",
      "[6 5]\n",
      "[6 6]\n",
      "[5 6]\n",
      "[0 0]\n",
      "[1 4]\n",
      "[5 1]\n",
      "[0 4]\n",
      "[0 1]\n",
      "[6 0]\n",
      "[2 1]\n",
      "[3 4]\n",
      "[0 5]\n",
      "[4 0]\n",
      "[2 4]\n",
      "[1 3]\n",
      "[0 2]\n",
      "[2 0]\n",
      "[5 3]\n",
      "[5 1]\n",
      "[5 3]\n",
      "[3 0]\n",
      "[1 3]\n",
      "[3 1]\n",
      "[1 3]\n",
      "[6 1]\n",
      "[4 6]\n",
      "[2 4]\n",
      "[0 4]\n",
      "[4 1]\n",
      "[5 1]\n",
      "[2 1]\n",
      "[2 4]\n",
      "[1 4]\n",
      "[1 3]\n",
      "[6 4]\n",
      "[1 3]\n",
      "[6 2]\n",
      "[6 1]\n",
      "[5 1]\n",
      "[1 3]\n",
      "[2 4]\n",
      "[2 1]\n",
      "[5 1]\n",
      "[6 3]\n",
      "[6 1]\n",
      "[1 1]\n",
      "[0 5]\n",
      "[0 0]\n",
      "[4 0]\n",
      "[6 4]\n",
      "[5 6]\n",
      "[6 4]\n",
      "[5 1]\n",
      "[0 3]\n",
      "[4 1]\n",
      "[5 3]\n",
      "[5 6]\n",
      "[5 3]\n",
      "[4 5]\n",
      "[0 3]\n",
      "[5 6]\n",
      "100\n",
      "[6 1]\n",
      "[6 0]\n",
      "[6 2]\n",
      "[6 1]\n",
      "[4 1]\n",
      "[1 4]\n",
      "[5 6]\n",
      "[4 6]\n",
      "[3 0]\n",
      "[1 4]\n",
      "[4 1]\n",
      "[0 1]\n",
      "[5 1]\n",
      "[5 0]\n",
      "[3 3]\n",
      "[3 0]\n",
      "[6 1]\n",
      "[2 5]\n",
      "[2 1]\n",
      "[4 6]\n",
      "[1 3]\n",
      "[2 4]\n",
      "[6 1]\n",
      "[5 0]\n",
      "[3 5]\n",
      "[5 0]\n",
      "[5 1]\n",
      "[3 0]\n",
      "[6 5]\n",
      "[5 6]\n",
      "[1 3]\n",
      "[5 0]\n",
      "[4 2]\n",
      "[4 6]\n",
      "[6 1]\n",
      "[5 1]\n",
      "[5 0]\n",
      "[0 3]\n",
      "[5 1]\n",
      "[5 3]\n",
      "[4 1]\n",
      "[6 1]\n",
      "[0 4]\n",
      "[3 5]\n",
      "[2 4]\n",
      "[6 1]\n",
      "[5 6]\n",
      "[1 3]\n",
      "[4 0]\n",
      "[2 4]\n",
      "[3 3]\n",
      "[6 6]\n",
      "[5 6]\n",
      "[2 4]\n",
      "[3 5]\n",
      "[0 0]\n",
      "[6 1]\n",
      "[2 1]\n",
      "[1 4]\n",
      "[1 3]\n",
      "[6 2]\n",
      "[5 1]\n",
      "[6 1]\n",
      "[5 1]\n",
      "[1 1]\n",
      "[5 6]\n",
      "[5 6]\n",
      "[3 0]\n",
      "[5 1]\n",
      "[1 6]\n",
      "[5 1]\n",
      "[4 0]\n",
      "[6 2]\n",
      "[3 1]\n",
      "[1 5]\n",
      "[5 0]\n",
      "[6 2]\n",
      "[5 6]\n",
      "[5 0]\n",
      "[6 2]\n",
      "[0 4]\n",
      "[5 3]\n",
      "[5 6]\n",
      "[0 0]\n",
      "[4 2]\n",
      "[6 2]\n",
      "[6 1]\n",
      "[3 0]\n",
      "[4 6]\n",
      "[1 4]\n",
      "[0 1]\n",
      "[2 2]\n",
      "[1 4]\n",
      "[3 0]\n",
      "[6 4]\n",
      "[0 0]\n",
      "[3 0]\n",
      "[2 4]\n",
      "[1 4]\n",
      "[6 1]\n",
      "200\n",
      "[1 6]\n",
      "[4 1]\n",
      "[2 2]\n",
      "[4 0]\n",
      "[6 4]\n",
      "[1 4]\n",
      "[5 6]\n",
      "[4 6]\n",
      "[4 0]\n",
      "[5 0]\n",
      "[2 1]\n",
      "[5 1]\n",
      "[4 6]\n",
      "[5 1]\n",
      "[1 3]\n",
      "[5 6]\n",
      "[0 4]\n",
      "[1 3]\n",
      "[0 0]\n",
      "[4 1]\n",
      "[5 1]\n",
      "[5 3]\n",
      "[5 3]\n",
      "[5 3]\n",
      "[0 0]\n",
      "[6 5]\n",
      "[3 0]\n",
      "[5 1]\n",
      "[4 4]\n",
      "[6 1]\n",
      "[1 5]\n",
      "[6 2]\n",
      "[3 3]\n",
      "[1 1]\n",
      "[0 1]\n",
      "[0 1]\n",
      "[5 1]\n",
      "[2 4]\n",
      "[3 5]\n",
      "[1 6]\n",
      "[5 6]\n",
      "[2 4]\n",
      "[2 4]\n",
      "[5 0]\n",
      "[2 3]\n",
      "[6 4]\n",
      "[5 0]\n",
      "[6 4]\n",
      "[3 0]\n",
      "[1 4]\n",
      "[1 3]\n",
      "[6 1]\n",
      "[2 1]\n",
      "[2 1]\n",
      "[4 6]\n",
      "[5 0]\n",
      "[1 5]\n",
      "[5 6]\n",
      "[1 2]\n",
      "[6 4]\n",
      "[4 1]\n",
      "[2 4]\n",
      "[2 4]\n",
      "[2 6]\n",
      "[3 3]\n",
      "[5 6]\n",
      "[4 2]\n",
      "[5 3]\n",
      "[6 2]\n",
      "[6 1]\n",
      "[5 1]\n",
      "[1 3]\n",
      "[2 6]\n",
      "[6 2]\n",
      "[0 5]\n",
      "[5 0]\n",
      "[1 2]\n",
      "[1 4]\n",
      "[1 6]\n",
      "[6 4]\n",
      "[1 3]\n",
      "[5 6]\n",
      "[6 2]\n",
      "[4 0]\n",
      "[3 1]\n",
      "[0 4]\n",
      "[0 6]\n",
      "[5 6]\n",
      "[2 3]\n",
      "[0 0]\n",
      "[6 1]\n",
      "[5 1]\n",
      "[6 1]\n",
      "[4 5]\n",
      "[5 3]\n",
      "[2 4]\n",
      "[5 3]\n",
      "[1 6]\n",
      "[2 3]\n",
      "[6 1]\n",
      "[6 2]  <-traducido- [ 5 , 1 ]\n",
      "[3 5]  <-traducido- [ 2 , 4 ]\n",
      "[5 3]  <-traducido- [ 4 , 2 ]\n",
      "[1 4]  <-traducido- [ 0 , 3 ]\n",
      "[7 2]  <-traducido- [ 6 , 1 ]\n",
      "[6 7]  <-traducido- [ 5 , 6 ]\n",
      "[5 1]  <-traducido- [ 4 , 0 ]\n",
      "[3 4]  <-traducido- [ 2 , 3 ]\n",
      "[4 6]  <-traducido- [ 3 , 5 ]\n",
      "[7 7]  <-traducido- [ 6 , 6 ]\n",
      "[4 1]  <-traducido- [ 3 , 0 ]\n",
      "[4 4]  <-traducido- [ 3 , 3 ]\n",
      "[7 4]  <-traducido- [ 6 , 3 ]\n",
      "[4 2]  <-traducido- [ 3 , 1 ]\n",
      "[6 4]  <-traducido- [ 5 , 3 ]\n",
      "[1 2]  <-traducido- [ 0 , 1 ]\n",
      "[2 4]  <-traducido- [ 1 , 3 ]\n",
      "[1 5]  <-traducido- [ 0 , 4 ]\n",
      "[7 3]  <-traducido- [ 6 , 2 ]\n",
      "[2 3]  <-traducido- [ 1 , 2 ]\n",
      "[5 5]  <-traducido- [ 4 , 4 ]\n",
      "[3 2]  <-traducido- [ 2 , 1 ]\n",
      "[7 6]  <-traducido- [ 6 , 5 ]\n",
      "[1 1]  <-traducido- [ 0 , 0 ]\n",
      "[2 5]  <-traducido- [ 1 , 4 ]\n",
      "[7 1]  <-traducido- [ 6 , 0 ]\n",
      "[4 5]  <-traducido- [ 3 , 4 ]\n",
      "[1 6]  <-traducido- [ 0 , 5 ]\n",
      "[1 3]  <-traducido- [ 0 , 2 ]\n",
      "[3 1]  <-traducido- [ 2 , 0 ]\n",
      "[5 7]  <-traducido- [ 4 , 6 ]\n",
      "[5 2]  <-traducido- [ 4 , 1 ]\n",
      "[7 5]  <-traducido- [ 6 , 4 ]\n",
      "[2 2]  <-traducido- [ 1 , 1 ]\n",
      "[5 6]  <-traducido- [ 4 , 5 ]\n",
      "[6 1]  <-traducido- [ 5 , 0 ]\n",
      "[3 6]  <-traducido- [ 2 , 5 ]\n",
      "[2 7]  <-traducido- [ 1 , 6 ]\n",
      "[2 6]  <-traducido- [ 1 , 5 ]\n",
      "[3 3]  <-traducido- [ 2 , 2 ]\n",
      "[3 7]  <-traducido- [ 2 , 6 ]\n",
      "[1 7]  <-traducido- [ 0 , 6 ]\n"
     ]
    },
    {
     "data": {
      "image/png": "[encoded data removed]",
      "text/plain": [
       "<Figure size 432x288 with 1 Axes>"
      ]
     },
     "metadata": {
      "needs_background": "light"
     },
     "output_type": "display_data"
    },
    {
     "data": {
      "image/png": "[encoded data removed]",
      "text/plain": [
       "<Figure size 432x288 with 1 Axes>"
      ]
     },
     "metadata": {
      "needs_background": "light"
     },
     "output_type": "display_data"
    }
   ],
   "source": [
    "# Entrena la red con el dataset de entrenamiento\n",
    "matriz_pesos_orig = matriz_pesos.copy()\n",
    "datosT = np.transpose(datos)\n",
    "listabmu = []\n",
    "listabmu.append([-1,-1])\n",
    "for x in range(periodo):\n",
    "    if(x % 100 == 0):\n",
    "        print(x)\n",
    "    numAleatorio = np.random.randint(0, num_colores)\n",
    "    color = datosT[numAleatorio]\n",
    "    Bmu , BmuIndex = calcular_bmu(color,matriz_pesos,valores_color)\n",
    "    #BMu , BMUindex = BMU(color,matriz_pesos,valores_color)\n",
    "    #print(\"BMU 1: \",Bmu,\"BMU 2: \",BMu)\n",
    "    #print(\"Index 1: \",BmuIndex,\"Index 2: \",BMUindex)\n",
    "    isNotInListIndex = True\n",
    "    for index in listabmu:\n",
    "        if index[0] == BmuIndex[0] and index[1] == BmuIndex[1]:\n",
    "            isNotInListIndex = False\n",
    "    if isNotInListIndex:\n",
    "        listabmu.append(BmuIndex)\n",
    "    #print(matriz_pesos[BmuIndex[0]][BmuIndex[1]])\n",
    "    matriz_pesos = ajustarPesos(BmuIndex , color , learning_rate , matriz_pesos).copy()\n",
    "    #print(matriz_pesos[BmuIndex[0]][BmuIndex[1]])\n",
    "for bmuIndex in listabmu: \n",
    "    if bmuIndex[0] != -1 and bmuIndex[1] != -1:\n",
    "        print(bmuIndex + 1, \" <-traducido- [\",bmuIndex[0],\",\",bmuIndex[1],\"]\")\n",
    "pintar_mapa(matriz_pesos_orig)\n",
    "pintar_mapa(matriz_pesos)"
   ]
  },
  {
   "cell_type": "markdown",
   "metadata": {},
   "source": [
    "## SOM Clasificación"
   ]
  },
  {
   "cell_type": "code",
   "execution_count": 903,
   "metadata": {
    "collapsed": true
   },
   "outputs": [],
   "source": [
    "# Clasifica los patrones de entrenamiento con la matriz de pesos recién entrenada\n",
    "\n"
   ]
  },
  {
   "cell_type": "markdown",
   "metadata": {},
   "source": [
    "## SOM Prueba"
   ]
  },
  {
   "cell_type": "code",
   "execution_count": 904,
   "metadata": {
    "collapsed": true
   },
   "outputs": [],
   "source": [
    "# Clasifica nuevos patrones\n",
    "\n"
   ]
  }
 ],
 "metadata": {
  "anaconda-cloud": {},
  "kernelspec": {
   "display_name": "Python 3",
   "language": "python",
   "name": "python3"
  },
  "language_info": {
   "codemirror_mode": {
    "name": "ipython",
    "version": 3
   },
   "file_extension": ".py",
   "mimetype": "text/x-python",
   "name": "python",
   "nbconvert_exporter": "python",
   "pygments_lexer": "ipython3",
   "version": "3.8.5"
  }
 },
 "nbformat": 4,
 "nbformat_minor": 2
}
