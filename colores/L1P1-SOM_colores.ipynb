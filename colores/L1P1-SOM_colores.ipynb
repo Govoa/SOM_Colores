{
 "cells": [
  {
   "cell_type": "markdown",
   "metadata": {},
   "source": [
    "# Práctica 1 - Self-Organising Maps - COLORES\n",
    "## Preparación de entorno\n",
    "#### Importar librerías de código"
   ]
  },
  {
   "cell_type": "code",
   "execution_count": 1,
   "metadata": {
    "scrolled": true
   },
   "outputs": [],
   "source": [
    "# from __future__ import division\n",
    "\n",
    "import numpy as np\n",
    "from matplotlib import pyplot as plt\n",
    "from matplotlib import patches as patches\n",
    "from sklearn import preprocessing\n",
    "\n",
    "%matplotlib inline"
   ]
  },
  {
   "cell_type": "markdown",
   "metadata": {},
   "source": [
    "#### Dataset que se va a utilizar para el entrenamiento"
   ]
  },
  {
   "cell_type": "code",
   "execution_count": 2,
   "metadata": {
    "collapsed": true
   },
   "outputs": [],
   "source": [
    "# Código para obtener el Dataset que se va a usar en el entrenamiento\n",
    "valor_max = 256\n",
    "valor_min = 0\n",
    "valores_color = 3\n",
    "num_colores = 100\n",
    "datos = np.random.randint(valor_min, valor_max, (valores_color, num_colores))"
   ]
  },
  {
   "cell_type": "markdown",
   "metadata": {},
   "source": [
    "## SOM Setup\n",
    "#### Variables definidas por el alumno"
   ]
  },
  {
   "cell_type": "code",
   "execution_count": 3,
   "metadata": {
    "collapsed": true
   },
   "outputs": [],
   "source": [
    "# Inicializa tamaño del mapa de Kohonen, número de iteraciones y learning rate\n",
    "# Inicializa normalizar_datos dependiendo de si tienes que normalizar los datos o no\n",
    "lado_mapa = 30\n",
    "periodo = 5000\n",
    "learning_rate = 0.3\n",
    "normalizar_datos = True"
   ]
  },
  {
   "cell_type": "markdown",
   "metadata": {},
   "source": [
    "#### A partir de este punto solo hay cálculos. No se introducen más valores \"a mano\""
   ]
  },
  {
   "cell_type": "code",
   "execution_count": 4,
   "metadata": {
    "collapsed": true
   },
   "outputs": [],
   "source": [
    "# Establece el numero de entradas del mapa y el número de datos que se van a usar para entrenar. \n",
    "# Utiliza una función que obtenga automáticamente los valores a partir del Dataset.\n",
    "num_entradas = valores_color\n",
    "num_datos = num_colores\n",
    "\n",
    "# Calcula el vecindario inicial. Debe ser la mitad del lado del mapa de Kohonen\n",
    "vecindario_inicial = int(lado_mapa/2)\n",
    "\n",
    "# Normaliza los datos si fuese necesario dividiendo cada dato por el máximo en la matriz\n",
    "if normalizar_datos:\n",
    "    datos = datos / 255\n",
    "    \n",
    "# Crea una matriz de pesos con valores random entre 0 y 1. Usa la función random.random de la librería NumPy\n",
    "matriz_pesos = np.random.random((lado_mapa,lado_mapa,valores_color))"
   ]
  },
  {
   "cell_type": "markdown",
   "metadata": {},
   "source": [
    "#### Funciones para entrenar/clasificar"
   ]
  },
  {
   "cell_type": "code",
   "execution_count": 5,
   "metadata": {},
   "outputs": [],
   "source": [
    "# Funcion calcular BMU\n",
    "def calcular_bmu(patron_entrada, m_pesos):\n",
    "   # Obtenemos dimensiones de la matriz de pesos para los bucles\n",
    "   rows = len(m_pesos)\n",
    "   columns = len(m_pesos[0])\n",
    "   # Decimos que la ganadora al principio sea la primera neurona\n",
    "   ganadora = np.linalg.norm(np.array(m_pesos[0][0]) - np.array(patron_entrada))\n",
    "   Bmu = m_pesos[0][0]\n",
    "   BmuIndex = np.stack((0,0))\n",
    "   # Bucle que recorre toda las neuronas\n",
    "   for x in range(rows):\n",
    "      for y in range(columns):\n",
    "         # Obten la distancia euclidea entre la neurona y el patron\n",
    "         dist = np.linalg.norm(np.array(m_pesos[x][y]) - np.array(patron_entrada))\n",
    "         # Si la nueva distancia es menor que la ganadora asigna esta neurona como la nueva ganadora\n",
    "         if dist < ganadora:\n",
    "            ganadora = dist\n",
    "            Bmu = m_pesos[x][y]\n",
    "            BmuIndex = np.stack((x,y))\n",
    "   return Bmu , BmuIndex\n",
    "\n"
   ]
  },
  {
   "cell_type": "code",
   "execution_count": 6,
   "metadata": {
    "collapsed": true
   },
   "outputs": [],
   "source": [
    "# Función para calcular el descenso del coeficiente de aprendizaje (eta)\n",
    "\"\"\"\n",
    "   Calcula el Learning Rate (eta) que corresponde a la i-ésima presentación.\n",
    "   Entradas: (learning_rate_inicial, iteracion, período)\n",
    "   Salidas:  learning_rate para la iteración i\n",
    "\n",
    "\"\"\"\n",
    "def variacion_learning_rate(lr_inicial, i, n_iteraciones):\n",
    "   learning_rate = lr_inicial * (1 - i/n_iteraciones)\n",
    "   return learning_rate\n"
   ]
  },
  {
   "cell_type": "code",
   "execution_count": 7,
   "metadata": {
    "collapsed": true
   },
   "outputs": [],
   "source": [
    "# Función para calcular el descenso del vecindario (v)\n",
    "\"\"\"\n",
    "   Calcula el vecindario  (v) que corresponde a la i-ésima presentación.\n",
    "   Entradas: (vecindario_inicial, iteracion, período)\n",
    "   Salidas:  lvecindario para la iteración i\n",
    "\n",
    "\"\"\"\n",
    "def variacion_vecindario(vecindario_inicial, i, n_iteraciones):\n",
    "   vecindario = 1 + vecindario_inicial * (1 - i/n_iteraciones)\n",
    "   return vecindario\n",
    "   "
   ]
  },
  {
   "cell_type": "code",
   "execution_count": 8,
   "metadata": {
    "collapsed": true
   },
   "outputs": [],
   "source": [
    "# Función para calcular el descenso del coeficiente de aprendizaje (eta) en función de la distancia a la BMU\n",
    "\"\"\"\n",
    "   Calcula la amortiguación de eta en función de la distancia en el mapa entre una neurona y la BMU.\n",
    "   Entradas: (distancia_BMU, vecindario_actual)\n",
    "   Salidas:  amortiguación para la iteración\n",
    "\n",
    "\"\"\"\n",
    "def decay(distancia_BMU, vecindario_actual):\n",
    "    return np.exp(-distancia_BMU**2 / (2*vecindario_actual**2))"
   ]
  },
  {
   "cell_type": "code",
   "execution_count": 9,
   "metadata": {},
   "outputs": [],
   "source": [
    "#Funcion Ajuste de matriz de pesos\n",
    "def ajustarPesos(IndexN , color , learning_rate , matriz_pesos , vecindario):\n",
    "    # Formula para obtener los pesos nuevos de la BMU\n",
    "    matriz_pesos[IndexN[0]][IndexN[1]] += (learning_rate * (color - matriz_pesos[IndexN[0]][IndexN[1]]))\n",
    "    # Obtenemos las dimensiones para el bucle\n",
    "    rows = len(matriz_pesos)\n",
    "    cols = len(matriz_pesos[0])\n",
    "    # Bucle que recorre todas la neuronas incluida la BMU\n",
    "    for x in range(rows):\n",
    "        for y in range(cols):\n",
    "            vectorNeurona = [x,y] #Guardamos el indice como un vector\n",
    "            vectorBMU = [IndexN[0],IndexN[1]] #Guardamos el indice como un vecto\n",
    "            #Calculamos la discacia euclidea entre ambos vectores para determinar como de lejos estan los indices\n",
    "            dist_euc = np.linalg.norm(np.array(vectorBMU) - np.array(vectorNeurona)) \n",
    "            # Si la distancia es menor o igual que el vecindario y no es 0 (caso de la BMU) entonces sabemos que es vecina de BMU\n",
    "            if(dist_euc <= vecindario and dist_euc != 0):\n",
    "              # Dime segun la distancia entre la neuroma vecina y la bmu cuanto es el decay del learning rate\n",
    "              dist_decay = decay(dist_euc,vecindario)\n",
    "              # Aplico formula de ajuste de pesos a la neurona vecina segun los datos obtenidos\n",
    "              matriz_pesos[x][y] += (learning_rate * dist_decay * (color -  matriz_pesos[x][y]))  \n",
    "            \n",
    "    return matriz_pesos\n"
   ]
  },
  {
   "cell_type": "markdown",
   "metadata": {},
   "source": [
    "#### Funciones para dibujar la salida de la red"
   ]
  },
  {
   "cell_type": "code",
   "execution_count": 10,
   "metadata": {
    "collapsed": true
   },
   "outputs": [],
   "source": [
    "# Función para pintar una matriz de valores como colores RGB\n",
    "def pintar_mapa(matriz_valores):\n",
    "    fig = plt.figure()\n",
    "    \n",
    "    # Establece ejes\n",
    "    ax = fig.add_subplot(111, aspect='equal')\n",
    "    ax.set_xlim((0, matriz_pesos.shape[0]+1))\n",
    "    ax.set_ylim((0, matriz_pesos.shape[1]+1))\n",
    "    ax.set_title('Self-Organising Map después de %d iteraciones' % periodo)\n",
    "\n",
    "    # Dibuja los rectángulos de color RGB\n",
    "    for x in range(1, matriz_valores.shape[0] + 1):\n",
    "        for y in range(1, matriz_valores.shape[1] + 1):\n",
    "            ax.add_patch(patches.Rectangle((x-0.5, y-0.5), 1, 1,\n",
    "                         facecolor=matriz_valores[x-1,y-1,:],\n",
    "                         edgecolor='none'))\n",
    "    plt.show()"
   ]
  },
  {
   "cell_type": "markdown",
   "metadata": {},
   "source": [
    "## SOM Entrenamiento"
   ]
  },
  {
   "cell_type": "code",
   "execution_count": 11,
   "metadata": {
    "collapsed": true
   },
   "outputs": [
    {
     "data": {
<<<<<<< HEAD
      "image/png": "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",
=======
      "image/png": "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",
>>>>>>> Inigo
      "text/plain": [
       "<Figure size 432x288 with 1 Axes>"
      ]
     },
     "metadata": {
      "needs_background": "light"
     },
     "output_type": "display_data"
    },
    {
     "name": "stdout",
     "output_type": "stream",
     "text": [
      "Iteracion Nº:  5000\r"
     ]
    },
    {
     "data": {
<<<<<<< HEAD
      "image/png": "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",
=======
      "image/png": "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",
>>>>>>> Inigo
      "text/plain": [
       "<Figure size 432x288 with 1 Axes>"
      ]
     },
     "metadata": {
      "needs_background": "light"
     },
     "output_type": "display_data"
    }
   ],
   "source": [
    "# Entrena la red con el dataset de entrenamiento\n",
    "\n",
    "# Pintamos mapa de pesos inicial\n",
    "pintar_mapa(matriz_pesos)\n",
    "# Reshape de los datos para que se pueda operar con la matriz de pesos\n",
    "datosT = np.transpose(datos)\n",
    "# Guardamos las variables iniciales para no modificarlas en las iteraciones de entrenamiento\n",
    "vecindario = vecindario_inicial\n",
    "learning_rate_ajustado = learning_rate\n",
    "for x in range(periodo):\n",
    "    # Imprime la iteracion actual cada 100 iteraciones\n",
    "    if(x % 100 == 0 and x != 0):\n",
    "        print('Iteracion Nº: ',x,end=\"\\r\")\n",
    "    #Obtenemos un indice aleatorio de nuestro set de colores\n",
    "    numAleatorio = np.random.randint(0, num_colores)\n",
    "    color = datosT[numAleatorio] \n",
    "    #Pasamos el color aleatorio a calcular bmu para que nos devuelva la neurona mas proxima al patron\n",
    "    Bmu , BmuIndex = calcular_bmu(color,matriz_pesos)\n",
    "    #Ajustamos la matrix de pesos segun los datos obtenidos\n",
    "    matriz_pesos = ajustarPesos(BmuIndex , color , learning_rate_ajustado , matriz_pesos , vecindario)\n",
    "    #Una vez ajustada la matriz de pesos modificamos el learning rate para la siguiente iteracion\n",
    "    learning_rate_ajustado = variacion_learning_rate(learning_rate, x , periodo)\n",
    "    #Una vez ajustada la matriz de pesos modificamos el vecindario para la siguiente iteracion\n",
    "    vecindario = variacion_vecindario(vecindario_inicial , x , periodo)\n",
    "\n",
    "#Pintamos mapa de pesos final\n",
    "print('Iteracion Nº: ',x + 1,end=\"\\r\")\n",
    "pintar_mapa(matriz_pesos)"
   ]
  },
  {
   "cell_type": "markdown",
   "metadata": {},
   "source": [
    "## SOM Clasificación"
   ]
  },
  {
   "cell_type": "code",
   "execution_count": 12,
   "metadata": {
    "collapsed": true
   },
   "outputs": [],
   "source": [
    "# Clasifica los patrones de entrenamiento con la matriz de pesos recién entrenada\n",
    "\n",
    "def Clasificacion(colores , matriz_pesos):\n",
    "\n",
    "    Mapa_Clasificacion = np.zeros((lado_mapa,lado_mapa,valores_color))\n",
    "    Mapa_Activacion = np.zeros((lado_mapa,lado_mapa),dtype=int)\n",
    "    Mapa_Distancias = np.zeros((lado_mapa,lado_mapa))\n",
    "\n",
    "    clase = 0\n",
    "\n",
    "    for color in colores:\n",
    "        bmu , bmuIndex = calcular_bmu(color,matriz_pesos)\n",
    "        Mapa_Activacion[bmuIndex[0],bmuIndex[1]] += 1 # Cada vez que se activa una neurona (x,y de la ganadora ++)\n",
    "        Mapa_Clasificacion[bmuIndex[0],bmuIndex[1]] = color # Se guarda el último color que ha activado la neurona\n",
    "        # La media de las distancias euclidieas de esa neurona\n",
    "        Mapa_Distancias[bmuIndex[0],bmuIndex[1]] = (Mapa_Distancias[bmuIndex[0],bmuIndex[1]] + np.linalg.norm(np.array(bmu) - np.array(color))) / 2 \n",
    "        \n",
    "    for x in range(len(Mapa_Activacion)):\n",
    "        for y in range(len(Mapa_Activacion[0])):\n",
    "            if Mapa_Activacion[x][y] > 0:\n",
    "                clase += 1\n",
    "\n",
    "    print('Numero de Clases: ', clase)\n",
    "    return Mapa_Activacion, Mapa_Clasificacion, Mapa_Distancias\n",
    "\n"
   ]
  },
  {
   "cell_type": "markdown",
   "metadata": {},
   "source": [
    "## SOM Prueba"
   ]
  },
  {
   "cell_type": "code",
   "execution_count": 13,
   "metadata": {
    "collapsed": true
   },
   "outputs": [
    {
     "name": "stdout",
     "output_type": "stream",
     "text": [
<<<<<<< HEAD
      "Numero de Clases:  88\n",
      "Error De Cuantificacion:  0.06240091077164298\n",
      "Error Topologico:  0.03\n"
=======
      "Numero de Clases:  92\n",
      "Error De Cuantificacion:  0.05209847848674572\n",
      "Error Topologico:  0.08\n"
>>>>>>> Inigo
     ]
    }
   ],
   "source": [
    "# Clasifica nuevos patrones\n",
    "colores_clasficiar = np.random.randint(valor_min, valor_max, (valores_color, 100))\n",
    "colores_clasficiar = colores_clasficiar / 255\n",
    "colores_clasficiar = np.transpose(colores_clasficiar)\n",
    "\n",
    "Mapa_Activacion, Mapa_Clasificacion, Mapa_Distancias = Clasificacion(colores_clasficiar, matriz_pesos)\n",
    "# Funcion para calcular el error de cuantificacion dado un mapa de Distancias\n",
    "def Calcular_err_cuantificacion(Mapa_Distancias):\n",
    "    ListaDistancia = []\n",
    "    for x in range(len(Mapa_Distancias)):\n",
    "        for y in range(len(Mapa_Distancias[0])):\n",
    "            if Mapa_Distancias[x][y] != 0:\n",
    "             ListaDistancia.append(Mapa_Distancias[x][y])\n",
    "    Media = sum(ListaDistancia) / len(ListaDistancia)\n",
    "    return Media\n",
    "\n",
    "# Funcion que devuelve si la segunda bmu es adyacente o no dado un patron\n",
    "def calcular_err_topologico(patron_entrada, m_pesos):\n",
    "    rows = len(m_pesos)\n",
    "    columns = len(m_pesos[0])\n",
    "    # Asignamos que la ganadora 1 sea la primera neurona y la ganadora 2 la segunda por tener un valor con cual empezar\n",
    "    ganadora = np.linalg.norm(np.array(m_pesos[0][0]) - np.array(patron_entrada))\n",
    "    ganadora2 = np.linalg.norm(np.array(m_pesos[0][1]) - np.array(patron_entrada))\n",
    "    BmuIndex = np.stack((0,0))\n",
    "    Bmu2Index = np.stack((0,1))\n",
    "    # Mismo algoritmo que CalcularBMU pero en este se guarda la segunda BMU\n",
    "    for x in range(rows):\n",
    "        for y in range(columns):\n",
    "            dist = np.linalg.norm(np.array(m_pesos[x][y]) - np.array(patron_entrada))\n",
    "            if dist < ganadora:\n",
    "                ganadora = dist\n",
    "                BmuIndex = np.stack((x,y))\n",
    "            else:\n",
    "                if dist < ganadora2:\n",
    "                    ganadora2 = dist\n",
    "                    Bmu2Index = np.stack((x,y))\n",
    "    # Devuelve 0 si es adyacente y 1 en el caso contrario\n",
    "    return (0 if np.linalg.norm(np.array(BmuIndex)-np.array(Bmu2Index)) < 2 else 1)\n",
    "\n",
    "# Aqui calculamos e imprimimos los errores\n",
    "print('Error De Cuantificacion: ', Calcular_err_cuantificacion(Mapa_Distancias))\n",
    "listaX = []\n",
    "\n",
    "# Dado un set de colores guarda en una lista los valores devueltos\n",
    "for color in colores_clasficiar:\n",
    "    listaX.append(calcular_err_topologico(color,matriz_pesos))\n",
    "# Calculamos la Media\n",
    "media = sum(listaX) / len(listaX)\n",
    "print('Error Topologico: ', media)"
   ]
  }
 ],
 "metadata": {
  "anaconda-cloud": {},
  "kernelspec": {
   "display_name": "Python 3",
   "language": "python",
   "name": "python3"
  },
  "language_info": {
   "codemirror_mode": {
    "name": "ipython",
    "version": 3
   },
   "file_extension": ".py",
   "mimetype": "text/x-python",
   "name": "python",
   "nbconvert_exporter": "python",
   "pygments_lexer": "ipython3",
   "version": "3.9.7"
  }
 },
 "nbformat": 4,
 "nbformat_minor": 2
}
